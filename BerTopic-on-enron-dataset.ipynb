{
  "nbformat": 4,
  "nbformat_minor": 0,
  "metadata": {
    "colab": {
      "name": "BerTopic on enron dataset.ipynb",
      "provenance": [],
      "collapsed_sections": []
    },
    "kernelspec": {
      "name": "python3",
      "display_name": "Python 3"
    },
    "language_info": {
      "name": "python"
    },
    "gpuClass": "standard",
    "widgets": {
      "application/vnd.jupyter.widget-state+json": {
        "2fe334cf25914ff787dcf472aab49e06": {
          "model_module": "@jupyter-widgets/controls",
          "model_name": "HBoxModel",
          "model_module_version": "1.5.0",
          "state": {
            "_dom_classes": [],
            "_model_module": "@jupyter-widgets/controls",
            "_model_module_version": "1.5.0",
            "_model_name": "HBoxModel",
            "_view_count": null,
            "_view_module": "@jupyter-widgets/controls",
            "_view_module_version": "1.5.0",
            "_view_name": "HBoxView",
            "box_style": "",
            "children": [
              "IPY_MODEL_7062cbd8ef244ccfab4874ff7a81000d",
              "IPY_MODEL_bfdbd83f5e7141c2b131faa5dee1801e",
              "IPY_MODEL_d5b8ce505d8f476eb83e13efb1e1c2eb"
            ],
            "layout": "IPY_MODEL_b5c34f66607648ce991258d6b4568b2a"
          }
        },
        "7062cbd8ef244ccfab4874ff7a81000d": {
          "model_module": "@jupyter-widgets/controls",
          "model_name": "HTMLModel",
          "model_module_version": "1.5.0",
          "state": {
            "_dom_classes": [],
            "_model_module": "@jupyter-widgets/controls",
            "_model_module_version": "1.5.0",
            "_model_name": "HTMLModel",
            "_view_count": null,
            "_view_module": "@jupyter-widgets/controls",
            "_view_module_version": "1.5.0",
            "_view_name": "HTMLView",
            "description": "",
            "description_tooltip": null,
            "layout": "IPY_MODEL_5c7bb39b6b4e46d1904a83143090cf0a",
            "placeholder": "​",
            "style": "IPY_MODEL_2de19f552d2949eb9bdeb1a2d42d5a06",
            "value": "Batches: 100%"
          }
        },
        "bfdbd83f5e7141c2b131faa5dee1801e": {
          "model_module": "@jupyter-widgets/controls",
          "model_name": "FloatProgressModel",
          "model_module_version": "1.5.0",
          "state": {
            "_dom_classes": [],
            "_model_module": "@jupyter-widgets/controls",
            "_model_module_version": "1.5.0",
            "_model_name": "FloatProgressModel",
            "_view_count": null,
            "_view_module": "@jupyter-widgets/controls",
            "_view_module_version": "1.5.0",
            "_view_name": "ProgressView",
            "bar_style": "success",
            "description": "",
            "description_tooltip": null,
            "layout": "IPY_MODEL_80a0a20e66444251bfad6fed6b3483d9",
            "max": 539,
            "min": 0,
            "orientation": "horizontal",
            "style": "IPY_MODEL_17a365f4894d457999b7e555ca655d08",
            "value": 539
          }
        },
        "d5b8ce505d8f476eb83e13efb1e1c2eb": {
          "model_module": "@jupyter-widgets/controls",
          "model_name": "HTMLModel",
          "model_module_version": "1.5.0",
          "state": {
            "_dom_classes": [],
            "_model_module": "@jupyter-widgets/controls",
            "_model_module_version": "1.5.0",
            "_model_name": "HTMLModel",
            "_view_count": null,
            "_view_module": "@jupyter-widgets/controls",
            "_view_module_version": "1.5.0",
            "_view_name": "HTMLView",
            "description": "",
            "description_tooltip": null,
            "layout": "IPY_MODEL_7c24cc5bc75441d992e33b1e7775fd0f",
            "placeholder": "​",
            "style": "IPY_MODEL_6c353f13323e48938d4dc5371b951b1f",
            "value": " 539/539 [12:41&lt;00:00, 13.09it/s]"
          }
        },
        "b5c34f66607648ce991258d6b4568b2a": {
          "model_module": "@jupyter-widgets/base",
          "model_name": "LayoutModel",
          "model_module_version": "1.2.0",
          "state": {
            "_model_module": "@jupyter-widgets/base",
            "_model_module_version": "1.2.0",
            "_model_name": "LayoutModel",
            "_view_count": null,
            "_view_module": "@jupyter-widgets/base",
            "_view_module_version": "1.2.0",
            "_view_name": "LayoutView",
            "align_content": null,
            "align_items": null,
            "align_self": null,
            "border": null,
            "bottom": null,
            "display": null,
            "flex": null,
            "flex_flow": null,
            "grid_area": null,
            "grid_auto_columns": null,
            "grid_auto_flow": null,
            "grid_auto_rows": null,
            "grid_column": null,
            "grid_gap": null,
            "grid_row": null,
            "grid_template_areas": null,
            "grid_template_columns": null,
            "grid_template_rows": null,
            "height": null,
            "justify_content": null,
            "justify_items": null,
            "left": null,
            "margin": null,
            "max_height": null,
            "max_width": null,
            "min_height": null,
            "min_width": null,
            "object_fit": null,
            "object_position": null,
            "order": null,
            "overflow": null,
            "overflow_x": null,
            "overflow_y": null,
            "padding": null,
            "right": null,
            "top": null,
            "visibility": null,
            "width": null
          }
        },
        "5c7bb39b6b4e46d1904a83143090cf0a": {
          "model_module": "@jupyter-widgets/base",
          "model_name": "LayoutModel",
          "model_module_version": "1.2.0",
          "state": {
            "_model_module": "@jupyter-widgets/base",
            "_model_module_version": "1.2.0",
            "_model_name": "LayoutModel",
            "_view_count": null,
            "_view_module": "@jupyter-widgets/base",
            "_view_module_version": "1.2.0",
            "_view_name": "LayoutView",
            "align_content": null,
            "align_items": null,
            "align_self": null,
            "border": null,
            "bottom": null,
            "display": null,
            "flex": null,
            "flex_flow": null,
            "grid_area": null,
            "grid_auto_columns": null,
            "grid_auto_flow": null,
            "grid_auto_rows": null,
            "grid_column": null,
            "grid_gap": null,
            "grid_row": null,
            "grid_template_areas": null,
            "grid_template_columns": null,
            "grid_template_rows": null,
            "height": null,
            "justify_content": null,
            "justify_items": null,
            "left": null,
            "margin": null,
            "max_height": null,
            "max_width": null,
            "min_height": null,
            "min_width": null,
            "object_fit": null,
            "object_position": null,
            "order": null,
            "overflow": null,
            "overflow_x": null,
            "overflow_y": null,
            "padding": null,
            "right": null,
            "top": null,
            "visibility": null,
            "width": null
          }
        },
        "2de19f552d2949eb9bdeb1a2d42d5a06": {
          "model_module": "@jupyter-widgets/controls",
          "model_name": "DescriptionStyleModel",
          "model_module_version": "1.5.0",
          "state": {
            "_model_module": "@jupyter-widgets/controls",
            "_model_module_version": "1.5.0",
            "_model_name": "DescriptionStyleModel",
            "_view_count": null,
            "_view_module": "@jupyter-widgets/base",
            "_view_module_version": "1.2.0",
            "_view_name": "StyleView",
            "description_width": ""
          }
        },
        "80a0a20e66444251bfad6fed6b3483d9": {
          "model_module": "@jupyter-widgets/base",
          "model_name": "LayoutModel",
          "model_module_version": "1.2.0",
          "state": {
            "_model_module": "@jupyter-widgets/base",
            "_model_module_version": "1.2.0",
            "_model_name": "LayoutModel",
            "_view_count": null,
            "_view_module": "@jupyter-widgets/base",
            "_view_module_version": "1.2.0",
            "_view_name": "LayoutView",
            "align_content": null,
            "align_items": null,
            "align_self": null,
            "border": null,
            "bottom": null,
            "display": null,
            "flex": null,
            "flex_flow": null,
            "grid_area": null,
            "grid_auto_columns": null,
            "grid_auto_flow": null,
            "grid_auto_rows": null,
            "grid_column": null,
            "grid_gap": null,
            "grid_row": null,
            "grid_template_areas": null,
            "grid_template_columns": null,
            "grid_template_rows": null,
            "height": null,
            "justify_content": null,
            "justify_items": null,
            "left": null,
            "margin": null,
            "max_height": null,
            "max_width": null,
            "min_height": null,
            "min_width": null,
            "object_fit": null,
            "object_position": null,
            "order": null,
            "overflow": null,
            "overflow_x": null,
            "overflow_y": null,
            "padding": null,
            "right": null,
            "top": null,
            "visibility": null,
            "width": null
          }
        },
        "17a365f4894d457999b7e555ca655d08": {
          "model_module": "@jupyter-widgets/controls",
          "model_name": "ProgressStyleModel",
          "model_module_version": "1.5.0",
          "state": {
            "_model_module": "@jupyter-widgets/controls",
            "_model_module_version": "1.5.0",
            "_model_name": "ProgressStyleModel",
            "_view_count": null,
            "_view_module": "@jupyter-widgets/base",
            "_view_module_version": "1.2.0",
            "_view_name": "StyleView",
            "bar_color": null,
            "description_width": ""
          }
        },
        "7c24cc5bc75441d992e33b1e7775fd0f": {
          "model_module": "@jupyter-widgets/base",
          "model_name": "LayoutModel",
          "model_module_version": "1.2.0",
          "state": {
            "_model_module": "@jupyter-widgets/base",
            "_model_module_version": "1.2.0",
            "_model_name": "LayoutModel",
            "_view_count": null,
            "_view_module": "@jupyter-widgets/base",
            "_view_module_version": "1.2.0",
            "_view_name": "LayoutView",
            "align_content": null,
            "align_items": null,
            "align_self": null,
            "border": null,
            "bottom": null,
            "display": null,
            "flex": null,
            "flex_flow": null,
            "grid_area": null,
            "grid_auto_columns": null,
            "grid_auto_flow": null,
            "grid_auto_rows": null,
            "grid_column": null,
            "grid_gap": null,
            "grid_row": null,
            "grid_template_areas": null,
            "grid_template_columns": null,
            "grid_template_rows": null,
            "height": null,
            "justify_content": null,
            "justify_items": null,
            "left": null,
            "margin": null,
            "max_height": null,
            "max_width": null,
            "min_height": null,
            "min_width": null,
            "object_fit": null,
            "object_position": null,
            "order": null,
            "overflow": null,
            "overflow_x": null,
            "overflow_y": null,
            "padding": null,
            "right": null,
            "top": null,
            "visibility": null,
            "width": null
          }
        },
        "6c353f13323e48938d4dc5371b951b1f": {
          "model_module": "@jupyter-widgets/controls",
          "model_name": "DescriptionStyleModel",
          "model_module_version": "1.5.0",
          "state": {
            "_model_module": "@jupyter-widgets/controls",
            "_model_module_version": "1.5.0",
            "_model_name": "DescriptionStyleModel",
            "_view_count": null,
            "_view_module": "@jupyter-widgets/base",
            "_view_module_version": "1.2.0",
            "_view_name": "StyleView",
            "description_width": ""
          }
        }
      }
    }
  },
  "cells": [
    {
      "cell_type": "code",
      "execution_count": 4,
      "metadata": {
        "colab": {
          "base_uri": "https://localhost:8080/"
        },
        "id": "6yUHconkvO0x",
        "outputId": "336e8bd2-fdfa-47a6-a58e-7da7eaa8ca76"
      },
      "outputs": [
        {
          "output_type": "stream",
          "name": "stdout",
          "text": [
            "Looking in indexes: https://pypi.org/simple, https://us-python.pkg.dev/colab-wheels/public/simple/\n",
            "Collecting stop_words\n",
            "  Downloading stop-words-2018.7.23.tar.gz (31 kB)\n",
            "Building wheels for collected packages: stop-words\n",
            "  Building wheel for stop-words (setup.py) ... \u001b[?25l\u001b[?25hdone\n",
            "  Created wheel for stop-words: filename=stop_words-2018.7.23-py3-none-any.whl size=32911 sha256=ae9555eb405c813d164c2cc4f8f27d7d0affc2bbc01b7287140147d5ab534561\n",
            "  Stored in directory: /root/.cache/pip/wheels/fb/86/b2/277b10b1ce9f73ce15059bf6975d4547cc4ec3feeb651978e9\n",
            "Successfully built stop-words\n",
            "Installing collected packages: stop-words\n",
            "Successfully installed stop-words-2018.7.23\n"
          ]
        }
      ],
      "source": [
        "!pip install stop_words"
      ]
    },
    {
      "cell_type": "code",
      "source": [
        "!pip install bertopic"
      ],
      "metadata": {
        "colab": {
          "base_uri": "https://localhost:8080/"
        },
        "id": "2sRVTKDUvTkD",
        "outputId": "1676386c-331d-49bc-9875-d83b6f899384"
      },
      "execution_count": 5,
      "outputs": [
        {
          "output_type": "stream",
          "name": "stdout",
          "text": [
            "Looking in indexes: https://pypi.org/simple, https://us-python.pkg.dev/colab-wheels/public/simple/\n",
            "Collecting bertopic\n",
            "  Downloading bertopic-0.11.0-py2.py3-none-any.whl (76 kB)\n",
            "\u001b[K     |████████████████████████████████| 76 kB 2.9 MB/s \n",
            "\u001b[?25hCollecting umap-learn>=0.5.0\n",
            "  Downloading umap-learn-0.5.3.tar.gz (88 kB)\n",
            "\u001b[K     |████████████████████████████████| 88 kB 6.5 MB/s \n",
            "\u001b[?25hCollecting hdbscan>=0.8.28\n",
            "  Downloading hdbscan-0.8.28.tar.gz (5.2 MB)\n",
            "\u001b[K     |████████████████████████████████| 5.2 MB 44.7 MB/s \n",
            "\u001b[?25h  Installing build dependencies ... \u001b[?25l\u001b[?25hdone\n",
            "  Getting requirements to build wheel ... \u001b[?25l\u001b[?25hdone\n",
            "    Preparing wheel metadata ... \u001b[?25l\u001b[?25hdone\n",
            "Requirement already satisfied: pandas>=1.1.5 in /usr/local/lib/python3.7/dist-packages (from bertopic) (1.3.5)\n",
            "Requirement already satisfied: scikit-learn>=0.22.2.post1 in /usr/local/lib/python3.7/dist-packages (from bertopic) (1.0.2)\n",
            "Requirement already satisfied: numpy>=1.20.0 in /usr/local/lib/python3.7/dist-packages (from bertopic) (1.21.6)\n",
            "Requirement already satisfied: pyyaml<6.0 in /usr/local/lib/python3.7/dist-packages (from bertopic) (3.13)\n",
            "Requirement already satisfied: tqdm>=4.41.1 in /usr/local/lib/python3.7/dist-packages (from bertopic) (4.64.0)\n",
            "Collecting sentence-transformers>=0.4.1\n",
            "  Downloading sentence-transformers-2.2.2.tar.gz (85 kB)\n",
            "\u001b[K     |████████████████████████████████| 85 kB 5.2 MB/s \n",
            "\u001b[?25hRequirement already satisfied: plotly>=4.7.0 in /usr/local/lib/python3.7/dist-packages (from bertopic) (5.5.0)\n",
            "Requirement already satisfied: scipy>=1.0 in /usr/local/lib/python3.7/dist-packages (from hdbscan>=0.8.28->bertopic) (1.7.3)\n",
            "Requirement already satisfied: joblib>=1.0 in /usr/local/lib/python3.7/dist-packages (from hdbscan>=0.8.28->bertopic) (1.1.0)\n",
            "Requirement already satisfied: cython>=0.27 in /usr/local/lib/python3.7/dist-packages (from hdbscan>=0.8.28->bertopic) (0.29.32)\n",
            "Requirement already satisfied: python-dateutil>=2.7.3 in /usr/local/lib/python3.7/dist-packages (from pandas>=1.1.5->bertopic) (2.8.2)\n",
            "Requirement already satisfied: pytz>=2017.3 in /usr/local/lib/python3.7/dist-packages (from pandas>=1.1.5->bertopic) (2022.1)\n",
            "Requirement already satisfied: six in /usr/local/lib/python3.7/dist-packages (from plotly>=4.7.0->bertopic) (1.15.0)\n",
            "Requirement already satisfied: tenacity>=6.2.0 in /usr/local/lib/python3.7/dist-packages (from plotly>=4.7.0->bertopic) (8.0.1)\n",
            "Requirement already satisfied: threadpoolctl>=2.0.0 in /usr/local/lib/python3.7/dist-packages (from scikit-learn>=0.22.2.post1->bertopic) (3.1.0)\n",
            "Collecting transformers<5.0.0,>=4.6.0\n",
            "  Downloading transformers-4.21.1-py3-none-any.whl (4.7 MB)\n",
            "\u001b[K     |████████████████████████████████| 4.7 MB 33.8 MB/s \n",
            "\u001b[?25hRequirement already satisfied: torch>=1.6.0 in /usr/local/lib/python3.7/dist-packages (from sentence-transformers>=0.4.1->bertopic) (1.12.0+cu113)\n",
            "Requirement already satisfied: torchvision in /usr/local/lib/python3.7/dist-packages (from sentence-transformers>=0.4.1->bertopic) (0.13.0+cu113)\n",
            "Requirement already satisfied: nltk in /usr/local/lib/python3.7/dist-packages (from sentence-transformers>=0.4.1->bertopic) (3.7)\n",
            "Collecting sentencepiece\n",
            "  Downloading sentencepiece-0.1.96-cp37-cp37m-manylinux_2_17_x86_64.manylinux2014_x86_64.whl (1.2 MB)\n",
            "\u001b[K     |████████████████████████████████| 1.2 MB 48.7 MB/s \n",
            "\u001b[?25hCollecting huggingface-hub>=0.4.0\n",
            "  Downloading huggingface_hub-0.8.1-py3-none-any.whl (101 kB)\n",
            "\u001b[K     |████████████████████████████████| 101 kB 10.1 MB/s \n",
            "\u001b[?25hCollecting pyyaml<6.0\n",
            "  Downloading PyYAML-5.4.1-cp37-cp37m-manylinux1_x86_64.whl (636 kB)\n",
            "\u001b[K     |████████████████████████████████| 636 kB 67.7 MB/s \n",
            "\u001b[?25hRequirement already satisfied: requests in /usr/local/lib/python3.7/dist-packages (from huggingface-hub>=0.4.0->sentence-transformers>=0.4.1->bertopic) (2.23.0)\n",
            "Requirement already satisfied: packaging>=20.9 in /usr/local/lib/python3.7/dist-packages (from huggingface-hub>=0.4.0->sentence-transformers>=0.4.1->bertopic) (21.3)\n",
            "Requirement already satisfied: typing-extensions>=3.7.4.3 in /usr/local/lib/python3.7/dist-packages (from huggingface-hub>=0.4.0->sentence-transformers>=0.4.1->bertopic) (4.1.1)\n",
            "Requirement already satisfied: filelock in /usr/local/lib/python3.7/dist-packages (from huggingface-hub>=0.4.0->sentence-transformers>=0.4.1->bertopic) (3.7.1)\n",
            "Requirement already satisfied: importlib-metadata in /usr/local/lib/python3.7/dist-packages (from huggingface-hub>=0.4.0->sentence-transformers>=0.4.1->bertopic) (4.12.0)\n",
            "Requirement already satisfied: pyparsing!=3.0.5,>=2.0.2 in /usr/local/lib/python3.7/dist-packages (from packaging>=20.9->huggingface-hub>=0.4.0->sentence-transformers>=0.4.1->bertopic) (3.0.9)\n",
            "Requirement already satisfied: regex!=2019.12.17 in /usr/local/lib/python3.7/dist-packages (from transformers<5.0.0,>=4.6.0->sentence-transformers>=0.4.1->bertopic) (2022.6.2)\n",
            "Collecting tokenizers!=0.11.3,<0.13,>=0.11.1\n",
            "  Downloading tokenizers-0.12.1-cp37-cp37m-manylinux_2_12_x86_64.manylinux2010_x86_64.whl (6.6 MB)\n",
            "\u001b[K     |████████████████████████████████| 6.6 MB 50.7 MB/s \n",
            "\u001b[?25hRequirement already satisfied: numba>=0.49 in /usr/local/lib/python3.7/dist-packages (from umap-learn>=0.5.0->bertopic) (0.56.0)\n",
            "Collecting pynndescent>=0.5\n",
            "  Downloading pynndescent-0.5.7.tar.gz (1.1 MB)\n",
            "\u001b[K     |████████████████████████████████| 1.1 MB 65.5 MB/s \n",
            "\u001b[?25hRequirement already satisfied: setuptools in /usr/local/lib/python3.7/dist-packages (from numba>=0.49->umap-learn>=0.5.0->bertopic) (57.4.0)\n",
            "Requirement already satisfied: llvmlite<0.40,>=0.39.0dev0 in /usr/local/lib/python3.7/dist-packages (from numba>=0.49->umap-learn>=0.5.0->bertopic) (0.39.0)\n",
            "Requirement already satisfied: zipp>=0.5 in /usr/local/lib/python3.7/dist-packages (from importlib-metadata->huggingface-hub>=0.4.0->sentence-transformers>=0.4.1->bertopic) (3.8.1)\n",
            "Requirement already satisfied: click in /usr/local/lib/python3.7/dist-packages (from nltk->sentence-transformers>=0.4.1->bertopic) (7.1.2)\n",
            "Requirement already satisfied: urllib3!=1.25.0,!=1.25.1,<1.26,>=1.21.1 in /usr/local/lib/python3.7/dist-packages (from requests->huggingface-hub>=0.4.0->sentence-transformers>=0.4.1->bertopic) (1.24.3)\n",
            "Requirement already satisfied: idna<3,>=2.5 in /usr/local/lib/python3.7/dist-packages (from requests->huggingface-hub>=0.4.0->sentence-transformers>=0.4.1->bertopic) (2.10)\n",
            "Requirement already satisfied: certifi>=2017.4.17 in /usr/local/lib/python3.7/dist-packages (from requests->huggingface-hub>=0.4.0->sentence-transformers>=0.4.1->bertopic) (2022.6.15)\n",
            "Requirement already satisfied: chardet<4,>=3.0.2 in /usr/local/lib/python3.7/dist-packages (from requests->huggingface-hub>=0.4.0->sentence-transformers>=0.4.1->bertopic) (3.0.4)\n",
            "Requirement already satisfied: pillow!=8.3.*,>=5.3.0 in /usr/local/lib/python3.7/dist-packages (from torchvision->sentence-transformers>=0.4.1->bertopic) (7.1.2)\n",
            "Building wheels for collected packages: hdbscan, sentence-transformers, umap-learn, pynndescent\n",
            "  Building wheel for hdbscan (PEP 517) ... \u001b[?25l\u001b[?25hdone\n",
            "  Created wheel for hdbscan: filename=hdbscan-0.8.28-cp37-cp37m-linux_x86_64.whl size=2340316 sha256=13b3082acc91419c2e6499d729762a0979712c55345e784b8e7d6e161af032cd\n",
            "  Stored in directory: /root/.cache/pip/wheels/6e/7a/5e/259ccc841c085fc41b99ef4a71e896b62f5161f2bc8a14c97a\n",
            "  Building wheel for sentence-transformers (setup.py) ... \u001b[?25l\u001b[?25hdone\n",
            "  Created wheel for sentence-transformers: filename=sentence_transformers-2.2.2-py3-none-any.whl size=125938 sha256=82b3649895a0c936b6e178e8e094e4b9dafa9f4d5d6c5dfcdd19f2c09c4e540c\n",
            "  Stored in directory: /root/.cache/pip/wheels/bf/06/fb/d59c1e5bd1dac7f6cf61ec0036cc3a10ab8fecaa6b2c3d3ee9\n",
            "  Building wheel for umap-learn (setup.py) ... \u001b[?25l\u001b[?25hdone\n",
            "  Created wheel for umap-learn: filename=umap_learn-0.5.3-py3-none-any.whl size=82829 sha256=f05a2c2138d3642a13c47169114f6acb684e7244ba1d9ce40e4dcd9d4f4176f2\n",
            "  Stored in directory: /root/.cache/pip/wheels/b3/52/a5/1fd9e3e76a7ab34f134c07469cd6f16e27ef3a37aeff1fe821\n",
            "  Building wheel for pynndescent (setup.py) ... \u001b[?25l\u001b[?25hdone\n",
            "  Created wheel for pynndescent: filename=pynndescent-0.5.7-py3-none-any.whl size=54286 sha256=a4036a5a9d339d098f8db8694ad692331629a55c8e48bc16d1836395cb1d8df4\n",
            "  Stored in directory: /root/.cache/pip/wheels/7f/2a/f8/7bd5dcec71bd5c669f6f574db3113513696b98f3f9b51f496c\n",
            "Successfully built hdbscan sentence-transformers umap-learn pynndescent\n",
            "Installing collected packages: pyyaml, tokenizers, huggingface-hub, transformers, sentencepiece, pynndescent, umap-learn, sentence-transformers, hdbscan, bertopic\n",
            "  Attempting uninstall: pyyaml\n",
            "    Found existing installation: PyYAML 3.13\n",
            "    Uninstalling PyYAML-3.13:\n",
            "      Successfully uninstalled PyYAML-3.13\n",
            "Successfully installed bertopic-0.11.0 hdbscan-0.8.28 huggingface-hub-0.8.1 pynndescent-0.5.7 pyyaml-5.4.1 sentence-transformers-2.2.2 sentencepiece-0.1.96 tokenizers-0.12.1 transformers-4.21.1 umap-learn-0.5.3\n"
          ]
        }
      ]
    },
    {
      "cell_type": "code",
      "source": [
        "!pip install sentence_transformers"
      ],
      "metadata": {
        "colab": {
          "base_uri": "https://localhost:8080/"
        },
        "id": "rkoGfg8ivVzV",
        "outputId": "fda68d8d-e55e-4db9-a2e0-34e5625876a7"
      },
      "execution_count": 6,
      "outputs": [
        {
          "output_type": "stream",
          "name": "stdout",
          "text": [
            "Looking in indexes: https://pypi.org/simple, https://us-python.pkg.dev/colab-wheels/public/simple/\n",
            "Requirement already satisfied: sentence_transformers in /usr/local/lib/python3.7/dist-packages (2.2.2)\n",
            "Requirement already satisfied: numpy in /usr/local/lib/python3.7/dist-packages (from sentence_transformers) (1.21.6)\n",
            "Requirement already satisfied: scipy in /usr/local/lib/python3.7/dist-packages (from sentence_transformers) (1.7.3)\n",
            "Requirement already satisfied: tqdm in /usr/local/lib/python3.7/dist-packages (from sentence_transformers) (4.64.0)\n",
            "Requirement already satisfied: nltk in /usr/local/lib/python3.7/dist-packages (from sentence_transformers) (3.7)\n",
            "Requirement already satisfied: torchvision in /usr/local/lib/python3.7/dist-packages (from sentence_transformers) (0.13.0+cu113)\n",
            "Requirement already satisfied: huggingface-hub>=0.4.0 in /usr/local/lib/python3.7/dist-packages (from sentence_transformers) (0.8.1)\n",
            "Requirement already satisfied: scikit-learn in /usr/local/lib/python3.7/dist-packages (from sentence_transformers) (1.0.2)\n",
            "Requirement already satisfied: transformers<5.0.0,>=4.6.0 in /usr/local/lib/python3.7/dist-packages (from sentence_transformers) (4.21.1)\n",
            "Requirement already satisfied: sentencepiece in /usr/local/lib/python3.7/dist-packages (from sentence_transformers) (0.1.96)\n",
            "Requirement already satisfied: torch>=1.6.0 in /usr/local/lib/python3.7/dist-packages (from sentence_transformers) (1.12.0+cu113)\n",
            "Requirement already satisfied: pyyaml>=5.1 in /usr/local/lib/python3.7/dist-packages (from huggingface-hub>=0.4.0->sentence_transformers) (5.4.1)\n",
            "Requirement already satisfied: requests in /usr/local/lib/python3.7/dist-packages (from huggingface-hub>=0.4.0->sentence_transformers) (2.23.0)\n",
            "Requirement already satisfied: importlib-metadata in /usr/local/lib/python3.7/dist-packages (from huggingface-hub>=0.4.0->sentence_transformers) (4.12.0)\n",
            "Requirement already satisfied: packaging>=20.9 in /usr/local/lib/python3.7/dist-packages (from huggingface-hub>=0.4.0->sentence_transformers) (21.3)\n",
            "Requirement already satisfied: filelock in /usr/local/lib/python3.7/dist-packages (from huggingface-hub>=0.4.0->sentence_transformers) (3.7.1)\n",
            "Requirement already satisfied: typing-extensions>=3.7.4.3 in /usr/local/lib/python3.7/dist-packages (from huggingface-hub>=0.4.0->sentence_transformers) (4.1.1)\n",
            "Requirement already satisfied: pyparsing!=3.0.5,>=2.0.2 in /usr/local/lib/python3.7/dist-packages (from packaging>=20.9->huggingface-hub>=0.4.0->sentence_transformers) (3.0.9)\n",
            "Requirement already satisfied: regex!=2019.12.17 in /usr/local/lib/python3.7/dist-packages (from transformers<5.0.0,>=4.6.0->sentence_transformers) (2022.6.2)\n",
            "Requirement already satisfied: tokenizers!=0.11.3,<0.13,>=0.11.1 in /usr/local/lib/python3.7/dist-packages (from transformers<5.0.0,>=4.6.0->sentence_transformers) (0.12.1)\n",
            "Requirement already satisfied: zipp>=0.5 in /usr/local/lib/python3.7/dist-packages (from importlib-metadata->huggingface-hub>=0.4.0->sentence_transformers) (3.8.1)\n",
            "Requirement already satisfied: joblib in /usr/local/lib/python3.7/dist-packages (from nltk->sentence_transformers) (1.1.0)\n",
            "Requirement already satisfied: click in /usr/local/lib/python3.7/dist-packages (from nltk->sentence_transformers) (7.1.2)\n",
            "Requirement already satisfied: urllib3!=1.25.0,!=1.25.1,<1.26,>=1.21.1 in /usr/local/lib/python3.7/dist-packages (from requests->huggingface-hub>=0.4.0->sentence_transformers) (1.24.3)\n",
            "Requirement already satisfied: certifi>=2017.4.17 in /usr/local/lib/python3.7/dist-packages (from requests->huggingface-hub>=0.4.0->sentence_transformers) (2022.6.15)\n",
            "Requirement already satisfied: chardet<4,>=3.0.2 in /usr/local/lib/python3.7/dist-packages (from requests->huggingface-hub>=0.4.0->sentence_transformers) (3.0.4)\n",
            "Requirement already satisfied: idna<3,>=2.5 in /usr/local/lib/python3.7/dist-packages (from requests->huggingface-hub>=0.4.0->sentence_transformers) (2.10)\n",
            "Requirement already satisfied: threadpoolctl>=2.0.0 in /usr/local/lib/python3.7/dist-packages (from scikit-learn->sentence_transformers) (3.1.0)\n",
            "Requirement already satisfied: pillow!=8.3.*,>=5.3.0 in /usr/local/lib/python3.7/dist-packages (from torchvision->sentence_transformers) (7.1.2)\n"
          ]
        }
      ]
    },
    {
      "cell_type": "code",
      "source": [
        "from google.colab import drive\n",
        "drive.mount('/content/gdrive')"
      ],
      "metadata": {
        "colab": {
          "base_uri": "https://localhost:8080/"
        },
        "id": "pyQpoFkVvciz",
        "outputId": "40cc3ab9-dcb9-42b3-9feb-990e33e4be01"
      },
      "execution_count": 7,
      "outputs": [
        {
          "output_type": "stream",
          "name": "stdout",
          "text": [
            "Drive already mounted at /content/gdrive; to attempt to forcibly remount, call drive.mount(\"/content/gdrive\", force_remount=True).\n"
          ]
        }
      ]
    },
    {
      "cell_type": "code",
      "source": [
        "import pandas as pd\n",
        "df = pd.read_csv(\"/content/gdrive/My Drive/Enron Project/Enron_mail_preprocessed-Oct-Nov-Snapshot.csv\")\n",
        "#df['narr_answers'] = df['narr_answers'].str.lower()\n",
        "df.head()"
      ],
      "metadata": {
        "colab": {
          "base_uri": "https://localhost:8080/",
          "height": 206
        },
        "id": "EjMMF4Q-vgOj",
        "outputId": "241d2618-4ab0-49fb-c172-8423560358c3"
      },
      "execution_count": 5,
      "outputs": [
        {
          "output_type": "execute_result",
          "data": {
            "text/plain": [
              "                                           mail_text\n",
              "0  phillip there are number alternative systems t...\n",
              "1  phillip could you please favor would like read...\n",
              "2  phillip pursuant your request please see the a...\n",
              "3  mmpdoc phillip enclosed please find the first ...\n",
              "4  mmpreddoc phillip enclosed please find blackli..."
            ],
            "text/html": [
              "\n",
              "  <div id=\"df-be051bd1-09d9-47e8-ada2-674a2a423837\">\n",
              "    <div class=\"colab-df-container\">\n",
              "      <div>\n",
              "<style scoped>\n",
              "    .dataframe tbody tr th:only-of-type {\n",
              "        vertical-align: middle;\n",
              "    }\n",
              "\n",
              "    .dataframe tbody tr th {\n",
              "        vertical-align: top;\n",
              "    }\n",
              "\n",
              "    .dataframe thead th {\n",
              "        text-align: right;\n",
              "    }\n",
              "</style>\n",
              "<table border=\"1\" class=\"dataframe\">\n",
              "  <thead>\n",
              "    <tr style=\"text-align: right;\">\n",
              "      <th></th>\n",
              "      <th>mail_text</th>\n",
              "    </tr>\n",
              "  </thead>\n",
              "  <tbody>\n",
              "    <tr>\n",
              "      <th>0</th>\n",
              "      <td>phillip there are number alternative systems t...</td>\n",
              "    </tr>\n",
              "    <tr>\n",
              "      <th>1</th>\n",
              "      <td>phillip could you please favor would like read...</td>\n",
              "    </tr>\n",
              "    <tr>\n",
              "      <th>2</th>\n",
              "      <td>phillip pursuant your request please see the a...</td>\n",
              "    </tr>\n",
              "    <tr>\n",
              "      <th>3</th>\n",
              "      <td>mmpdoc phillip enclosed please find the first ...</td>\n",
              "    </tr>\n",
              "    <tr>\n",
              "      <th>4</th>\n",
              "      <td>mmpreddoc phillip enclosed please find blackli...</td>\n",
              "    </tr>\n",
              "  </tbody>\n",
              "</table>\n",
              "</div>\n",
              "      <button class=\"colab-df-convert\" onclick=\"convertToInteractive('df-be051bd1-09d9-47e8-ada2-674a2a423837')\"\n",
              "              title=\"Convert this dataframe to an interactive table.\"\n",
              "              style=\"display:none;\">\n",
              "        \n",
              "  <svg xmlns=\"http://www.w3.org/2000/svg\" height=\"24px\"viewBox=\"0 0 24 24\"\n",
              "       width=\"24px\">\n",
              "    <path d=\"M0 0h24v24H0V0z\" fill=\"none\"/>\n",
              "    <path d=\"M18.56 5.44l.94 2.06.94-2.06 2.06-.94-2.06-.94-.94-2.06-.94 2.06-2.06.94zm-11 1L8.5 8.5l.94-2.06 2.06-.94-2.06-.94L8.5 2.5l-.94 2.06-2.06.94zm10 10l.94 2.06.94-2.06 2.06-.94-2.06-.94-.94-2.06-.94 2.06-2.06.94z\"/><path d=\"M17.41 7.96l-1.37-1.37c-.4-.4-.92-.59-1.43-.59-.52 0-1.04.2-1.43.59L10.3 9.45l-7.72 7.72c-.78.78-.78 2.05 0 2.83L4 21.41c.39.39.9.59 1.41.59.51 0 1.02-.2 1.41-.59l7.78-7.78 2.81-2.81c.8-.78.8-2.07 0-2.86zM5.41 20L4 18.59l7.72-7.72 1.47 1.35L5.41 20z\"/>\n",
              "  </svg>\n",
              "      </button>\n",
              "      \n",
              "  <style>\n",
              "    .colab-df-container {\n",
              "      display:flex;\n",
              "      flex-wrap:wrap;\n",
              "      gap: 12px;\n",
              "    }\n",
              "\n",
              "    .colab-df-convert {\n",
              "      background-color: #E8F0FE;\n",
              "      border: none;\n",
              "      border-radius: 50%;\n",
              "      cursor: pointer;\n",
              "      display: none;\n",
              "      fill: #1967D2;\n",
              "      height: 32px;\n",
              "      padding: 0 0 0 0;\n",
              "      width: 32px;\n",
              "    }\n",
              "\n",
              "    .colab-df-convert:hover {\n",
              "      background-color: #E2EBFA;\n",
              "      box-shadow: 0px 1px 2px rgba(60, 64, 67, 0.3), 0px 1px 3px 1px rgba(60, 64, 67, 0.15);\n",
              "      fill: #174EA6;\n",
              "    }\n",
              "\n",
              "    [theme=dark] .colab-df-convert {\n",
              "      background-color: #3B4455;\n",
              "      fill: #D2E3FC;\n",
              "    }\n",
              "\n",
              "    [theme=dark] .colab-df-convert:hover {\n",
              "      background-color: #434B5C;\n",
              "      box-shadow: 0px 1px 3px 1px rgba(0, 0, 0, 0.15);\n",
              "      filter: drop-shadow(0px 1px 2px rgba(0, 0, 0, 0.3));\n",
              "      fill: #FFFFFF;\n",
              "    }\n",
              "  </style>\n",
              "\n",
              "      <script>\n",
              "        const buttonEl =\n",
              "          document.querySelector('#df-be051bd1-09d9-47e8-ada2-674a2a423837 button.colab-df-convert');\n",
              "        buttonEl.style.display =\n",
              "          google.colab.kernel.accessAllowed ? 'block' : 'none';\n",
              "\n",
              "        async function convertToInteractive(key) {\n",
              "          const element = document.querySelector('#df-be051bd1-09d9-47e8-ada2-674a2a423837');\n",
              "          const dataTable =\n",
              "            await google.colab.kernel.invokeFunction('convertToInteractive',\n",
              "                                                     [key], {});\n",
              "          if (!dataTable) return;\n",
              "\n",
              "          const docLinkHtml = 'Like what you see? Visit the ' +\n",
              "            '<a target=\"_blank\" href=https://colab.research.google.com/notebooks/data_table.ipynb>data table notebook</a>'\n",
              "            + ' to learn more about interactive tables.';\n",
              "          element.innerHTML = '';\n",
              "          dataTable['output_type'] = 'display_data';\n",
              "          await google.colab.output.renderOutput(dataTable, element);\n",
              "          const docLink = document.createElement('div');\n",
              "          docLink.innerHTML = docLinkHtml;\n",
              "          element.appendChild(docLink);\n",
              "        }\n",
              "      </script>\n",
              "    </div>\n",
              "  </div>\n",
              "  "
            ]
          },
          "metadata": {},
          "execution_count": 5
        }
      ]
    },
    {
      "cell_type": "code",
      "source": [
        "import re\n",
        "from stop_words import get_stop_words\n",
        "import nltk\n",
        "nltk.download('stopwords')\n",
        "from nltk.corpus import stopwords\n",
        "STOPWORDS = set(stopwords.words('english'))\n",
        "stop_words = list(get_stop_words('en'))\n",
        "\n",
        "#print((set(list(STOPWORDS)) | set(list(stop_words))))\n",
        "stopwords = list(set(list(STOPWORDS)) | set(list(stop_words)))\n",
        "stopwords = [re.sub('[^a-zA-Z0-9]+', '', word) for word in stopwords]\n",
        "\n",
        "stopwords = stopwords + ['fyi', 'ily', 'britt', 'fyijr', 'fyyi', 'gwf', 'dear', 'hourahead', 'let', 'know', 'make', 'see', 'soon', 'hope', 'yes', 'incredibleforget',\n",
        "                         'betweeneveryone', 'enron', 'lexisnexis', 'pmeb', 'attend', 'attach', 'message', 'please', 'file']\n",
        "\n",
        "df['clean_mail_text'] = df['mail_text'].apply(lambda x: ' '.join([word for word in x.split() if word not in (stopwords)]))"
      ],
      "metadata": {
        "colab": {
          "base_uri": "https://localhost:8080/"
        },
        "id": "duJ2mWpQOKel",
        "outputId": "1151ee7b-0cec-4a6e-92dc-6a8794517e8d"
      },
      "execution_count": 30,
      "outputs": [
        {
          "output_type": "stream",
          "name": "stderr",
          "text": [
            "[nltk_data] Downloading package stopwords to /root/nltk_data...\n",
            "[nltk_data]   Package stopwords is already up-to-date!\n"
          ]
        }
      ]
    },
    {
      "cell_type": "code",
      "source": [
        "import nltk\n",
        "nltk.download('omw-1.4')"
      ],
      "metadata": {
        "colab": {
          "base_uri": "https://localhost:8080/"
        },
        "id": "iLTb6fzsxYKd",
        "outputId": "03bd7968-f995-4ab5-e195-1109850152bf"
      },
      "execution_count": 6,
      "outputs": [
        {
          "output_type": "stream",
          "name": "stderr",
          "text": [
            "[nltk_data] Downloading package omw-1.4 to /root/nltk_data...\n",
            "[nltk_data]   Package omw-1.4 is already up-to-date!\n"
          ]
        },
        {
          "output_type": "execute_result",
          "data": {
            "text/plain": [
              "True"
            ]
          },
          "metadata": {},
          "execution_count": 6
        }
      ]
    },
    {
      "cell_type": "code",
      "source": [
        "from nltk.stem import WordNetLemmatizer\n",
        "import nltk\n",
        "nltk.download('wordnet')\n",
        "wordnet_lemmatizer = WordNetLemmatizer()\n",
        "\n",
        "df['verblem_mail_text'] = df['clean_mail_text'].apply(lambda row: \" \".join(wordnet_lemmatizer.lemmatize(word, pos=\"v\") for word in row.split()))\n",
        "df['nounlem_mail_text'] = df['verblem_mail_text'].apply(lambda row: \" \".join(wordnet_lemmatizer.lemmatize(word, pos=\"n\") for word in row.split()))\n",
        "df['adjlem_mail_text'] = df['nounlem_mail_text'].apply(lambda row: \" \".join(wordnet_lemmatizer.lemmatize(word, pos=\"a\") for word in row.split()))\n",
        "df['advlem_mail_text'] = df['adjlem_mail_text'].apply(lambda row: \" \".join(wordnet_lemmatizer.lemmatize(word, pos=\"r\") for word in row.split()))\n",
        "\n",
        "df['advlem_mail_text'] = df['advlem_mail_text'].apply(lambda x: ' '.join([word for word in x.split() if word not in (stopwords)]))"
      ],
      "metadata": {
        "colab": {
          "base_uri": "https://localhost:8080/"
        },
        "id": "6QOjztZywv65",
        "outputId": "6c755243-0817-47c5-e591-5480a228ea4e"
      },
      "execution_count": 31,
      "outputs": [
        {
          "output_type": "stream",
          "name": "stderr",
          "text": [
            "[nltk_data] Downloading package wordnet to /root/nltk_data...\n",
            "[nltk_data]   Package wordnet is already up-to-date!\n"
          ]
        }
      ]
    },
    {
      "cell_type": "code",
      "source": [
        "print(len(list(df['advlem_mail_text'])))\n",
        "doc = []\n",
        "for i in list(df['advlem_mail_text']):\n",
        "  if i != \"\":\n",
        "    doc.append(i)\n",
        "\n",
        "print(len(doc))"
      ],
      "metadata": {
        "colab": {
          "base_uri": "https://localhost:8080/"
        },
        "id": "ISrPrc8Zw8i9",
        "outputId": "fcb9ac5d-516e-46d6-ae2e-006a1986bdb4"
      },
      "execution_count": 32,
      "outputs": [
        {
          "output_type": "stream",
          "name": "stdout",
          "text": [
            "17540\n",
            "17223\n"
          ]
        }
      ]
    },
    {
      "cell_type": "code",
      "source": [
        "from sentence_transformers import SentenceTransformer\n",
        "\n",
        "sentence_model = SentenceTransformer(\"all-MiniLM-L6-v2\")\n",
        "embeddings = sentence_model.encode(doc, show_progress_bar=True)"
      ],
      "metadata": {
        "colab": {
          "base_uri": "https://localhost:8080/",
          "height": 49,
          "referenced_widgets": [
            "2fe334cf25914ff787dcf472aab49e06",
            "7062cbd8ef244ccfab4874ff7a81000d",
            "bfdbd83f5e7141c2b131faa5dee1801e",
            "d5b8ce505d8f476eb83e13efb1e1c2eb",
            "b5c34f66607648ce991258d6b4568b2a",
            "5c7bb39b6b4e46d1904a83143090cf0a",
            "2de19f552d2949eb9bdeb1a2d42d5a06",
            "80a0a20e66444251bfad6fed6b3483d9",
            "17a365f4894d457999b7e555ca655d08",
            "7c24cc5bc75441d992e33b1e7775fd0f",
            "6c353f13323e48938d4dc5371b951b1f"
          ]
        },
        "id": "8SfzPuFZw8kw",
        "outputId": "496c6cdb-363e-41eb-fb7a-7b00f00f8abd"
      },
      "execution_count": 33,
      "outputs": [
        {
          "output_type": "display_data",
          "data": {
            "text/plain": [
              "Batches:   0%|          | 0/539 [00:00<?, ?it/s]"
            ],
            "application/vnd.jupyter.widget-view+json": {
              "version_major": 2,
              "version_minor": 0,
              "model_id": "2fe334cf25914ff787dcf472aab49e06"
            }
          },
          "metadata": {}
        }
      ]
    },
    {
      "cell_type": "code",
      "source": [
        "from bertopic import BERTopic\n",
        "\n",
        "topic_model = BERTopic(language=\"english\", calculate_probabilities=True, verbose=True, n_gram_range=(2, 2))\n",
        "topics, probs = topic_model.fit_transform(doc, embeddings)"
      ],
      "metadata": {
        "colab": {
          "base_uri": "https://localhost:8080/"
        },
        "id": "INbH2R7Qw8oi",
        "outputId": "58e095b4-e11d-4018-e2bd-f33ed54128b6"
      },
      "execution_count": 34,
      "outputs": [
        {
          "output_type": "stream",
          "name": "stderr",
          "text": [
            "2022-08-05 23:16:31,211 - BERTopic - Reduced dimensionality\n",
            "2022-08-05 23:20:07,605 - BERTopic - Clustered reduced embeddings\n"
          ]
        }
      ]
    },
    {
      "cell_type": "code",
      "source": [
        "freq = topic_model.get_topic_info(10); \n",
        "freq"
      ],
      "metadata": {
        "colab": {
          "base_uri": "https://localhost:8080/",
          "height": 81
        },
        "id": "1pFENkp3ynx_",
        "outputId": "73427b07-f535-4f21-bf93-685344cec6b7"
      },
      "execution_count": 35,
      "outputs": [
        {
          "output_type": "execute_result",
          "data": {
            "text/plain": [
              "   Topic  Count                                               Name\n",
              "0     10     78  10_new password_user name_choose new_name pass..."
            ],
            "text/html": [
              "\n",
              "  <div id=\"df-9de5d696-bcc2-4a9f-8500-5a3e8bdd7c4c\">\n",
              "    <div class=\"colab-df-container\">\n",
              "      <div>\n",
              "<style scoped>\n",
              "    .dataframe tbody tr th:only-of-type {\n",
              "        vertical-align: middle;\n",
              "    }\n",
              "\n",
              "    .dataframe tbody tr th {\n",
              "        vertical-align: top;\n",
              "    }\n",
              "\n",
              "    .dataframe thead th {\n",
              "        text-align: right;\n",
              "    }\n",
              "</style>\n",
              "<table border=\"1\" class=\"dataframe\">\n",
              "  <thead>\n",
              "    <tr style=\"text-align: right;\">\n",
              "      <th></th>\n",
              "      <th>Topic</th>\n",
              "      <th>Count</th>\n",
              "      <th>Name</th>\n",
              "    </tr>\n",
              "  </thead>\n",
              "  <tbody>\n",
              "    <tr>\n",
              "      <th>0</th>\n",
              "      <td>10</td>\n",
              "      <td>78</td>\n",
              "      <td>10_new password_user name_choose new_name pass...</td>\n",
              "    </tr>\n",
              "  </tbody>\n",
              "</table>\n",
              "</div>\n",
              "      <button class=\"colab-df-convert\" onclick=\"convertToInteractive('df-9de5d696-bcc2-4a9f-8500-5a3e8bdd7c4c')\"\n",
              "              title=\"Convert this dataframe to an interactive table.\"\n",
              "              style=\"display:none;\">\n",
              "        \n",
              "  <svg xmlns=\"http://www.w3.org/2000/svg\" height=\"24px\"viewBox=\"0 0 24 24\"\n",
              "       width=\"24px\">\n",
              "    <path d=\"M0 0h24v24H0V0z\" fill=\"none\"/>\n",
              "    <path d=\"M18.56 5.44l.94 2.06.94-2.06 2.06-.94-2.06-.94-.94-2.06-.94 2.06-2.06.94zm-11 1L8.5 8.5l.94-2.06 2.06-.94-2.06-.94L8.5 2.5l-.94 2.06-2.06.94zm10 10l.94 2.06.94-2.06 2.06-.94-2.06-.94-.94-2.06-.94 2.06-2.06.94z\"/><path d=\"M17.41 7.96l-1.37-1.37c-.4-.4-.92-.59-1.43-.59-.52 0-1.04.2-1.43.59L10.3 9.45l-7.72 7.72c-.78.78-.78 2.05 0 2.83L4 21.41c.39.39.9.59 1.41.59.51 0 1.02-.2 1.41-.59l7.78-7.78 2.81-2.81c.8-.78.8-2.07 0-2.86zM5.41 20L4 18.59l7.72-7.72 1.47 1.35L5.41 20z\"/>\n",
              "  </svg>\n",
              "      </button>\n",
              "      \n",
              "  <style>\n",
              "    .colab-df-container {\n",
              "      display:flex;\n",
              "      flex-wrap:wrap;\n",
              "      gap: 12px;\n",
              "    }\n",
              "\n",
              "    .colab-df-convert {\n",
              "      background-color: #E8F0FE;\n",
              "      border: none;\n",
              "      border-radius: 50%;\n",
              "      cursor: pointer;\n",
              "      display: none;\n",
              "      fill: #1967D2;\n",
              "      height: 32px;\n",
              "      padding: 0 0 0 0;\n",
              "      width: 32px;\n",
              "    }\n",
              "\n",
              "    .colab-df-convert:hover {\n",
              "      background-color: #E2EBFA;\n",
              "      box-shadow: 0px 1px 2px rgba(60, 64, 67, 0.3), 0px 1px 3px 1px rgba(60, 64, 67, 0.15);\n",
              "      fill: #174EA6;\n",
              "    }\n",
              "\n",
              "    [theme=dark] .colab-df-convert {\n",
              "      background-color: #3B4455;\n",
              "      fill: #D2E3FC;\n",
              "    }\n",
              "\n",
              "    [theme=dark] .colab-df-convert:hover {\n",
              "      background-color: #434B5C;\n",
              "      box-shadow: 0px 1px 3px 1px rgba(0, 0, 0, 0.15);\n",
              "      filter: drop-shadow(0px 1px 2px rgba(0, 0, 0, 0.3));\n",
              "      fill: #FFFFFF;\n",
              "    }\n",
              "  </style>\n",
              "\n",
              "      <script>\n",
              "        const buttonEl =\n",
              "          document.querySelector('#df-9de5d696-bcc2-4a9f-8500-5a3e8bdd7c4c button.colab-df-convert');\n",
              "        buttonEl.style.display =\n",
              "          google.colab.kernel.accessAllowed ? 'block' : 'none';\n",
              "\n",
              "        async function convertToInteractive(key) {\n",
              "          const element = document.querySelector('#df-9de5d696-bcc2-4a9f-8500-5a3e8bdd7c4c');\n",
              "          const dataTable =\n",
              "            await google.colab.kernel.invokeFunction('convertToInteractive',\n",
              "                                                     [key], {});\n",
              "          if (!dataTable) return;\n",
              "\n",
              "          const docLinkHtml = 'Like what you see? Visit the ' +\n",
              "            '<a target=\"_blank\" href=https://colab.research.google.com/notebooks/data_table.ipynb>data table notebook</a>'\n",
              "            + ' to learn more about interactive tables.';\n",
              "          element.innerHTML = '';\n",
              "          dataTable['output_type'] = 'display_data';\n",
              "          await google.colab.output.renderOutput(dataTable, element);\n",
              "          const docLink = document.createElement('div');\n",
              "          docLink.innerHTML = docLinkHtml;\n",
              "          element.appendChild(docLink);\n",
              "        }\n",
              "      </script>\n",
              "    </div>\n",
              "  </div>\n",
              "  "
            ]
          },
          "metadata": {},
          "execution_count": 35
        }
      ]
    },
    {
      "cell_type": "code",
      "source": [
        "topic_model.get_topic(0)"
      ],
      "metadata": {
        "colab": {
          "base_uri": "https://localhost:8080/"
        },
        "id": "f7CuFO6pyn0R",
        "outputId": "3bd4020d-c6a5-43a3-802c-150220e53f83"
      },
      "execution_count": 36,
      "outputs": [
        {
          "output_type": "execute_result",
          "data": {
            "text/plain": [
              "[('continue start', 0.14506231153231933),\n",
              " ('detect log', 0.12366172047869416),\n",
              " ('error retrieve', 0.1126176454938224),\n",
              " ('ancillary schedule', 0.1126176454938224),\n",
              " ('award variance', 0.1126176454938224),\n",
              " ('data process', 0.1126176454938224),\n",
              " ('hour ancillary', 0.1126176454938224),\n",
              " ('retrieve price', 0.1126176454938224),\n",
              " ('schedule award', 0.1126176454938224),\n",
              " ('schedulestxt error', 0.1125281167514379)]"
            ]
          },
          "metadata": {},
          "execution_count": 36
        }
      ]
    },
    {
      "cell_type": "code",
      "source": [
        "import matplotlib.pyplot as plt\n",
        "#plt.rcParams[\"figure.figsize\"] = (20,3)\n",
        "topic_model.visualize_distribution(probs[10], min_probability=0.000, width = 700, height = 700)"
      ],
      "metadata": {
        "colab": {
          "base_uri": "https://localhost:8080/",
          "height": 717
        },
        "id": "IpKmWZgRyn3Z",
        "outputId": "04b89d6d-872e-4dab-8fc1-298f519f8703"
      },
      "execution_count": 37,
      "outputs": [
        {
          "output_type": "display_data",
          "data": {
            "text/html": [
              "<html>\n",
              "<head><meta charset=\"utf-8\" /></head>\n",
              "<body>\n",
              "    <div>            <script src=\"https://cdnjs.cloudflare.com/ajax/libs/mathjax/2.7.5/MathJax.js?config=TeX-AMS-MML_SVG\"></script><script type=\"text/javascript\">if (window.MathJax) {MathJax.Hub.Config({SVG: {font: \"STIX-Web\"}});}</script>                <script type=\"text/javascript\">window.PlotlyConfig = {MathJaxConfig: 'local'};</script>\n",
              "        <script src=\"https://cdn.plot.ly/plotly-2.8.3.min.js\"></script>                <div id=\"72e00b6b-f37d-45f1-8e05-1e26a0fc96f4\" class=\"plotly-graph-div\" style=\"height:700px; width:700px;\"></div>            <script type=\"text/javascript\">                                    window.PLOTLYENV=window.PLOTLYENV || {};                                    if (document.getElementById(\"72e00b6b-f37d-45f1-8e05-1e26a0fc96f4\")) {                    Plotly.newPlot(                        \"72e00b6b-f37d-45f1-8e05-1e26a0fc96f4\",                        [{\"marker\":{\"color\":\"#C8D2D7\",\"line\":{\"color\":\"#6E8484\",\"width\":1}},\"orientation\":\"h\",\"x\":[4.3774044001975604e-05,0.0006339395410856973,0.0005696561880621108,0.00022170657112278953,0.00028716378284274766,5.0533896220434764e-05,0.000383418806882176,7.481897727364978e-05,0.0002902858598000651,0.00034949307416224577,0.00019730733654285768,0.00035307550174523575,0.00012873767576018872,0.0002276221018245647,8.432010411178185e-05,0.000382640732866544,0.00034306557551358957,4.7940341850488596e-05,0.0002566322569764368,0.00022889717792621788,0.0017542461654826438,0.00024714497954958357,8.930544829621963e-05,0.0005268451156403834,0.00097767396995871,4.682459660877878e-05,0.00017322219029110108,0.004721733897313992,0.00024506686871857413,0.0002686744723657157,0.0002828615080829357,0.0001853634908369581,4.734309549859691e-05,0.0003106119917673708,8.789556220849387e-05,0.0002125538540428962,0.00027303395402802943,0.0006213425553295935,4.650486471236334e-05,0.00012428559931801364,8.295420756767185e-05,0.0002727243063656583,8.578140102837602e-05,5.157098577128287e-05,0.00031928181492705263,0.00027695934598775815,5.3986969449767826e-05,0.000290963365358807,8.720335707825847e-05,0.00019391575323333756,5.061675610507678e-05,4.874063256651462e-05,4.8007005947403556e-05,5.1855818668817976e-05,0.00023840387066443894,0.00012460705176227174,9.118795946645296e-05,0.00023594181126582864,4.735768531287729e-05,0.00025143470954813995,0.00016966956231684053,0.00014992013796807262,0.00023211180253402644,8.023207626888544e-05,6.615179606225354e-05,0.00023969036332022347,0.00017702413857578498,0.00026467294774229104,5.8157911538737394e-05,0.00020075176993652327,4.401126325916779e-05,4.823782255900528e-05,0.00028081752684598686,0.0002716305493219724,0.0003878733412565809,0.00017825283091345913,0.0001498254538963282,0.00018564151278271254,0.00029043145402928824,0.00022974707257379884,0.0003064338646382472,0.00015371651726338542,0.0002848283397365082,5.009780636642901e-05,0.00022722661088852056,0.0002571006150584818,4.7533411191044444e-05,0.00029594700075868404,0.0002705826834071812,4.923446092347317e-05,0.00029743801331488383,7.267049195039095e-05,0.00034453551735519675,0.0002736380520673973,4.0951568035069626e-05,5.608145930743384e-05,0.00018455834011378068,7.259416035006639e-05,0.0004813030011986763,5.0918504566598466e-05,0.00020085875181040315,7.50551073627578e-05,6.099632116257611e-05,0.0003021358103322813,0.00010579378095783007,0.0008051050641869956,0.0003432200970170192,0.00036855300658950984,6.633491513741247e-05,0.000510035405105755,6.705470397166017e-05,0.00013349931585252727,0.000245317111376262,8.338476085140395e-05,0.0005188569762715936,0.000375741944057914,0.00014629766204966386,0.0002564125843987549,0.00020224175400547275,0.0002612173422567174,0.0003142907313526049,0.00028826392970056727,5.06774541270928e-05,8.709502978126467e-05,0.0003389547593070895,5.099782614515958e-05,0.0002934562059104224,4.831892898570179e-05,5.7251914277933206e-05,5.264999417723252e-05,0.00024082722737409326,6.0109315837997354e-05,4.80140768869155e-05,0.00033283787898609105,0.00019636878662065302,5.988023536074765e-05,0.0003575127771202984,6.740137732398164e-05,0.00025340453991914367,0.00027454829978988617,0.0001130022800496113,5.688354815880482e-05,4.972159821236427e-05,0.0002523952046540143,0.0002280752868757994,0.00013056545264909021,0.0002458419121235304,0.00016915897185944823,7.111621277134252e-05,0.00018121831259671191,0.00014625002942515833,0.0002659406105665164,4.8845907599630885e-05,4.586799097754427e-05,0.000654707142012849,0.00044656440035476067,0.00013338593940588815,0.0004299082778486701,0.00023628200983831195,0.0008165815312308268,0.00018731738746479535,6.602874312897574e-05,0.0003058908698929359,0.00021949034776506482,0.0001998620576258694,4.856207192946544e-05,0.00031781784576796193,4.619396900734378e-05,0.00029725723997314323,0.00031869295355720496,6.167538979619469e-05,0.0005337770167762626,4.754241087576283e-05,5.968741666306998e-05,4.657637001761011e-05,0.00020975932468695493,5.025016540676421e-05,0.00025530533758874477,0.00012764787511700734,0.00016419947412423756,0.00018824214392664044,0.0002581046750720987,0.0005177186308784141,0.00026747813989266026,0.0006809788260734563,0.0001038104533179661,5.008070407294807e-05,7.662243791388079e-05,0.00023441580680288234,0.00018486678513083147,0.0005755068971309403,0.000223117732351627,6.084889118233913e-05,0.00015780798030726526,0.00017095746255343973,0.0002714993292555317,4.907875378742966e-05,0.00045258011590583317,0.000528258597572202,0.00015671274232662957,0.00025843370684169024,0.00037759927064106615,0.00024132255720115845,6.599138004374237e-05,4.279244621508797e-05,0.0002701996070771008,0.00021536875219932918,0.00037314344932992785,0.00024305955786080768,0.00032778527133802386,0.0001581192920009916,0.00017381328221333762,0.0002219151282943486,5.0189489420280124e-05,0.0004471887112880398,0.0002036124608606588,0.00021602899392643792,0.0003416630236552338,0.0005016966203548298,0.00032789551646675465,0.00011136077685116044,4.941340906844835e-05,9.315644093766275e-05,0.0001217958778873366,0.00040654321315338143,0.00026125149985139036,0.00023633264008588172,0.0003324193538814037,0.00023232230475528498,5.787737584602881e-05,0.00021582230476315293,7.143532745440009e-05,0.00016528374197038285,0.00032226229760078394,4.573546063231735e-05,0.00030401081025607167,0.00016120222696792107,0.0004186392303312786,0.00019649498460093555,0.0005404728894595151,0.0001978975198358882,0.00023204643975735092,0.00030823141079061687,0.0002460910094907706,0.00023318944999303501,0.00032252295110858403,0.0004839138434694382,0.0002904297251328903,0.00029324654639852147,5.401174231574621e-05,4.6810555160925044e-05,0.0003865080617858145,0.00019624377721585957,6.633608187799304e-05,0.0003085821091435652,0.00024386042987226602,0.0002668956238408594,0.00031160360142031067,4.409329126353501e-05,0.0002929963652413226,6.459043787173672e-05,0.0002536745800516704,0.00026204529724047353,0.00030705313419691677,0.0004746800054281854,7.975022726184339e-05,5.251079295852657e-05,5.594259638699011e-05,0.00025006677470857275,5.727444433894478e-05,5.020390323217358e-05,0.0001580289637619208,0.00038329508072473665,0.00024782396701666796,0.0002581290372746023,7.740490726388856e-05,9.681729534701595e-05,0.00012558968188475917,0.0004323877090258714,0.0002744655581105328,0.00021121915082736637,5.0968277255388194e-05,0.00016914626021281956,0.0003832209414491292,4.9283191048589325e-05,0.00045184574938048506,0.0002061518918061245,0.00027239998468402805,0.00018820981271348977,0.00023081564795027445,5.279177083720486e-05,0.0001840759028162018,5.359247897435134e-05,0.0005651758045116193,6.282951040547619e-05,0.00015385984828914775,0.00020961363831652346,0.0001690811894625937,5.753783143302278e-05,8.544629979170671e-05,0.00016258097394405592,0.00016727806430982462,0.0001562127401859535,0.00017994736567009448,0.00013237410664764635,0.000244874914690558,0.00041178249362825114,0.00016925191965202,9.062987440896348e-05,4.926408741061477e-05,7.680570691191367e-05,5.013924578129508e-05,0.00042347665616589034,0.0003377714835058719,0.0005467224456093232,6.314604174745834e-05,0.00020416912353538407,0.0003636318274431978,8.616719882683887e-05,0.0002833839189732734,0.00022064792723161273,0.0009056941319245279,0.00018986440764359445,0.0003114121508883117,0.0002605564914585078,0.00025105061532504553,0.0006677944268663639,0.0003310342240277129,0.0005550168967120115,0.00019506832124752038,0.00032537062536091844,0.00042379043316020763,0.000353169425537367,0.00020955342175059985,0.00023510586159316156,0.0005676580569300495,0.00018764747236006064,0.00020942741649549446,5.285435915379539e-05,7.678974161679938e-05,0.0002767073291519878,4.917296099831852e-05,7.79498060897523e-05,0.0003490259049389239,0.0002852088019322485,0.0004615709204697202,0.000264495211238177,0.0001189459265777195,0.00023621885797524164,0.000327587493944124,0.00016387315232395578,0.00020820212427864195,0.0004061741480496171,8.958792523086273e-05,0.00026050916058796916,5.129114057078653e-05,0.0004028049509639828,0.0008318155746864848,0.0002842261168112648,0.0002999578422830611,0.0002979972429668621,0.0002819523928277879,0.0018680529225418886,0.0004058319318770694,0.0003160892157622625,5.8684674680785106e-05,0.00023308248448739553,0.0005623299618311903,0.00026281531769829563,0.00023453670497104427,0.0005895594731481558,0.00027515862698909905,0.0002403770937397406,0.00022880910560647824,9.336574222287023e-05,0.00013914554244193536,0.00019463363787264185,0.00012276173794421763,0.00029068289070636116,0.0001844600898229088,0.00038463584233771166,0.00037523311433703115,0.0003071654742784451,0.0003251432605150674,0.00036802217217262134,0.00024074222412920603,0.0003890661294729731,0.00029554489152768985],\"y\":[\"<b>Topic 0</b>: continue start_detect lo...\",\"<b>Topic 1</b>: god bless_work hard_want...\",\"<b>Topic 2</b>: operational risk_edt oct...\",\"<b>Topic 3</b>: another one_need anythin...\",\"<b>Topic 4</b>: oneway tofrom_hotel reso...\",\"<b>Topic 5</b>: clinic november_jones in...\",\"<b>Topic 6</b>: beta tent_reunion year_c...\",\"<b>Topic 7</b>: transtype final_mkttype ...\",\"<b>Topic 8</b>: option premium_payment d...\",\"<b>Topic 9</b>: write nyisotechexchange_...\",\"<b>Topic 10</b>: new password_user name_...\",\"<b>Topic 11</b>: hour end_stwhourly book...\",\"<b>Topic 12</b>: expense report_employee...\",\"<b>Topic 13</b>: go build_subscribe will...\",\"<b>Topic 14</b>: merger agreement_transa...\",\"<b>Topic 15</b>: free ship_image image_m...\",\"<b>Topic 16</b>: lyne martin_aunt mary_g...\",\"<b>Topic 17</b>: require start_fail manu...\",\"<b>Topic 18</b>: call question_give call...\",\"<b>Topic 19</b>: gmt central_time canada...\",\"<b>Topic 20</b>: york time_new york_time...\",\"<b>Topic 21</b>: mail list_note email_se...\",\"<b>Topic 22</b>: kim kim_confirm kim_joh...\",\"<b>Topic 23</b>: news live_ampm cst_wash...\",\"<b>Topic 24</b>: large consumer_october ...\",\"<b>Topic 25</b>: joint proxy_business no...\",\"<b>Topic 26</b>: sara sara_sara marie_fa...\",\"<b>Topic 27</b>: online equity_page unsu...\",\"<b>Topic 28</b>: power agreement_master ...\",\"<b>Topic 29</b>: smith street_street hou...\",\"<b>Topic 30</b>: cell phone_home cell_of...\",\"<b>Topic 31</b>: font facedarialsansseri...\",\"<b>Topic 32</b>: cst november_save plan_...\",\"<b>Topic 33</b>: primary point_daily cap...\",\"<b>Topic 34</b>: international location_...\",\"<b>Topic 35</b>: jeff jeff_jeffrey dasov...\",\"<b>Topic 36</b>: participate via_meet sc...\",\"<b>Topic 37</b>: identify top_stock pric...\",\"<b>Topic 38</b>: ercotloadxls ercotflowx...\",\"<b>Topic 39</b>: tana tana_miss tana_mar...\",\"<b>Topic 40</b>: watcher addition_raffle...\",\"<b>Topic 41</b>: game miss_total point_j...\",\"<b>Topic 42</b>: law individually_counse...\",\"<b>Topic 43</b>: pay advice_print pay_vi...\",\"<b>Topic 44</b>: termination letter_seve...\",\"<b>Topic 45</b>: backup seat_seat assign...\",\"<b>Topic 46</b>: transition period_longt...\",\"<b>Topic 47</b>: contract service_servic...\",\"<b>Topic 48</b>: holiday shop_shop card_...\",\"<b>Topic 49</b>: inline attachment_attac...\",\"<b>Topic 50</b>: excellence fundamental_...\",\"<b>Topic 51</b>: spread matrix_carr futu...\",\"<b>Topic 52</b>: northern natural_newly ...\",\"<b>Topic 53</b>: within central_midmarke...\",\"<b>Topic 54</b>: new draft_revise draft_...\",\"<b>Topic 55</b>: video teleconference_en...\",\"<b>Topic 56</b>: day mgr_mgr queue_repor...\",\"<b>Topic 57</b>: presentation slide_lay ...\",\"<b>Topic 58</b>: transition period_close...\",\"<b>Topic 59</b>: sunday game_pas yard_ga...\",\"<b>Topic 60</b>: provision employment_em...\",\"<b>Topic 61</b>: volume increase_third q...\",\"<b>Topic 62</b>: january post_version ma...\",\"<b>Topic 63</b>: publisher note_note fin...\",\"<b>Topic 64</b>: thru sit_sit london_fri...\",\"<b>Topic 65</b>: master agreement_entity...\",\"<b>Topic 66</b>: approximately million_r...\",\"<b>Topic 67</b>: time canada_gmt central...\",\"<b>Topic 68</b>: contact contact_novembe...\",\"<b>Topic 69</b>: heather kroll_forward p...\",\"<b>Topic 70</b>: database customer_outag...\",\"<b>Topic 71</b>: daily delivery_excel do...\",\"<b>Topic 72</b>: clear member_floor memb...\",\"<b>Topic 73</b>: price october_market co...\",\"<b>Topic 74</b>: michael dworkin_plan pr...\",\"<b>Topic 75</b>: ken ken_greg thoughtful...\",\"<b>Topic 76</b>: salary wag_wag earn_ter...\",\"<b>Topic 77</b>: account payable_ipayit ...\",\"<b>Topic 78</b>: prevail time_trade date...\",\"<b>Topic 79</b>: gmat review_registratio...\",\"<b>Topic 80</b>: short target_actual vol...\",\"<b>Topic 81</b>: mark mark_priviledges v...\",\"<b>Topic 82</b>: conference call_partici...\",\"<b>Topic 83</b>: employee employee_hand ...\",\"<b>Topic 84</b>: net agreement_master ne...\",\"<b>Topic 85</b>: smith street_wholesale ...\",\"<b>Topic 86</b>: match gift_internet ser...\",\"<b>Topic 87</b>: intend recipient_includ...\",\"<b>Topic 88</b>: act sale_mrhajulie gome...\",\"<b>Topic 89</b>: schedule outage_thru si...\",\"<b>Topic 90</b>: gas day_regulate califo...\",\"<b>Topic 91</b>: pay stub_electronic pay...\",\"<b>Topic 92</b>: high inventory_inventor...\",\"<b>Topic 93</b>: date nov_course code_le...\",\"<b>Topic 94</b>: trade press_use false_r...\",\"<b>Topic 95</b>: observe suspicious_stil...\",\"<b>Topic 96</b>: good morning_afternoon ...\",\"<b>Topic 97</b>: counterparty one_nyse b...\",\"<b>Topic 98</b>: power authority_hydro o...\",\"<b>Topic 99</b>: epps pntofintrc_trading...\",\"<b>Topic 100</b>: relate party_obviously...\",\"<b>Topic 101</b>: short term_epmi long_e...\",\"<b>Topic 102</b>: veronica espinoza_cred...\",\"<b>Topic 103</b>: downtown club_club mee...\",\"<b>Topic 104</b>: revision revision_edit...\",\"<b>Topic 105</b>: dow jones_copyright do...\",\"<b>Topic 106</b>: contract agreement_neg...\",\"<b>Topic 107</b>: gas select_schedule vo...\",\"<b>Topic 108</b>: cherry creative_creati...\",\"<b>Topic 109</b>: trade industry_energy ...\",\"<b>Topic 110</b>: union match_plan contr...\",\"<b>Topic 111</b>: ditto credit_leslie di...\",\"<b>Topic 112</b>: office chairman_execut...\",\"<b>Topic 113</b>: industry analyst_frost...\",\"<b>Topic 114</b>: international arbitrat...\",\"<b>Topic 115</b>: mom dad_elizabeth yaho...\",\"<b>Topic 116</b>: payment status_approva...\",\"<b>Topic 117</b>: street deli_breakfast ...\",\"<b>Topic 118</b>: clair phone_carol clai...\",\"<b>Topic 119</b>: send form_jay williams...\",\"<b>Topic 120</b>: image image_imageimage...\",\"<b>Topic 121</b>: fare change_fare watch...\",\"<b>Topic 122</b>: data kobra_name market...\",\"<b>Topic 123</b>: publisher note_note pr...\",\"<b>Topic 124</b>: gulf south_expansion p...\",\"<b>Topic 125</b>: october ecn_ecn except...\",\"<b>Topic 126</b>: columbia gas_columbia ...\",\"<b>Topic 127</b>: kudlowdoc kudlowdoc_ku...\",\"<b>Topic 128</b>: participant friday_cst...\",\"<b>Topic 129</b>: investment fund_makeup...\",\"<b>Topic 130</b>: delivery status_status...\",\"<b>Topic 131</b>: outlook web_web access...\",\"<b>Topic 132</b>: delete item_mailbox si...\",\"<b>Topic 133</b>: provide status_receive...\",\"<b>Topic 134</b>: gerald gerald_gerald r...\",\"<b>Topic 135</b>: retention policy_email...\",\"<b>Topic 136</b>: curve manager_new vers...\",\"<b>Topic 137</b>: internet email_email a...\",\"<b>Topic 138</b>: net agreement_master n...\",\"<b>Topic 139</b>: sign threeyear_ee also...\",\"<b>Topic 140</b>: highlight blue_adjustm...\",\"<b>Topic 141</b>: exchange instant_nec m...\",\"<b>Topic 142</b>: global technology_addr...\",\"<b>Topic 143</b>: send back_hot list_lis...\",\"<b>Topic 144</b>: press release_draft pr...\",\"<b>Topic 145</b>: bank arm_investment ba...\",\"<b>Topic 146</b>: want copy_everyone mig...\",\"<b>Topic 147</b>: tracy tracy_jan tracy_...\",\"<b>Topic 148</b>: confidential informati...\",\"<b>Topic 149</b>: cook north_cordially m...\",\"<b>Topic 150</b>: john john_ngz john_bot...\",\"<b>Topic 151</b>: sign copy_david gorte_...\",\"<b>Topic 152</b>: today speculate_respon...\",\"<b>Topic 153</b>: aid certification_cpr ...\",\"<b>Topic 154</b>: dow jones_copyright do...\",\"<b>Topic 155</b>: free pic_still nothing...\",\"<b>Topic 156</b>: receive envelope_accor...\",\"<b>Topic 157</b>: public report_version ...\",\"<b>Topic 158</b>: liquidity position_mai...\",\"<b>Topic 159</b>: application developmen...\",\"<b>Topic 160</b>: michelle michelle_mich...\",\"<b>Topic 161</b>: visualize data_data ma...\",\"<b>Topic 162</b>: imbalance trade_imbala...\",\"<b>Topic 163</b>: look great_look fine_l...\",\"<b>Topic 164</b>: elizabeth sage_carol m...\",\"<b>Topic 165</b>: data kobra_name market...\",\"<b>Topic 166</b>: past due_amount edison...\",\"<b>Topic 167</b>: time registration_call...\",\"<b>Topic 168</b>: document request_send ...\",\"<b>Topic 169</b>: tour championship_golf...\",\"<b>Topic 170</b>: norton antivirus_black...\",\"<b>Topic 171</b>: market pulp_question c...\",\"<b>Topic 172</b>: holiday party_holiday ...\",\"<b>Topic 173</b>: alias dbcapsdata_unkno...\",\"<b>Topic 174</b>: regulatory policy_regu...\",\"<b>Topic 175</b>: november gmt_gmt centr...\",\"<b>Topic 176</b>: lay lay_lay fastow_lay...\",\"<b>Topic 177</b>: everyone alex_monday i...\",\"<b>Topic 178</b>: kevin presto_tjae blac...\",\"<b>Topic 179</b>: monika monika_allan li...\",\"<b>Topic 180</b>: user transaction_alrea...\",\"<b>Topic 181</b>: adr audrey_robertson t...\",\"<b>Topic 182</b>: image image_full story...\",\"<b>Topic 183</b>: credit support_maccred...\",\"<b>Topic 184</b>: credit line_wall stree...\",\"<b>Topic 185</b>: alex huang_issue prese...\",\"<b>Topic 186</b>: daily delivery_excel d...\",\"<b>Topic 187</b>: schedule detail_schedu...\",\"<b>Topic 188</b>: debt size_time call_ap...\",\"<b>Topic 189</b>: agree draft_lindy lind...\",\"<b>Topic 190</b>: cambridge energy_resea...\",\"<b>Topic 191</b>: redline version_clean ...\",\"<b>Topic 192</b>: veronica espinoza_vane...\",\"<b>Topic 193</b>: electric business_appr...\",\"<b>Topic 194</b>: management conference_...\",\"<b>Topic 195</b>: data request_set data_...\",\"<b>Topic 196</b>: thru sit_sit london_si...\",\"<b>Topic 197</b>: resume review_trade tr...\",\"<b>Topic 198</b>: shield faith_god say_g...\",\"<b>Topic 199</b>: license distribution_e...\",\"<b>Topic 200</b>: default party_nondefau...\",\"<b>Topic 201</b>: weekly report_access w...\",\"<b>Topic 202</b>: monday morning_new bui...\",\"<b>Topic 203</b>: badge contractor_passp...\",\"<b>Topic 204</b>: minimum volume_parent ...\",\"<b>Topic 205</b>: tomorrow ec_meet tomor...\",\"<b>Topic 206</b>: young legal_kay young_...\",\"<b>Topic 207</b>: issue ferc_capacity pa...\",\"<b>Topic 208</b>: like modify_review ann...\",\"<b>Topic 209</b>: reuters english_englis...\",\"<b>Topic 210</b>: sign join_big caf_join...\",\"<b>Topic 211</b>: open enrollment_plan c...\",\"<b>Topic 212</b>: storage team_enterpris...\",\"<b>Topic 213</b>: name livelink_type app...\",\"<b>Topic 214</b>: virus cause_virus atta...\",\"<b>Topic 215</b>: gridiron address_faq f...\",\"<b>Topic 216</b>: greg greg_greg per_leg...\",\"<b>Topic 217</b>: vince still_limit band...\",\"<b>Topic 218</b>: saturday february_frid...\",\"<b>Topic 219</b>: fri nov_receive esmtp_...\",\"<b>Topic 220</b>: jan moore_weekly repor...\",\"<b>Topic 221</b>: schedule outage_origin...\",\"<b>Topic 222</b>: smith floor_cordially ...\",\"<b>Topic 223</b>: list master_agreement ...\",\"<b>Topic 224</b>: unit presentation_advi...\",\"<b>Topic 225</b>: medicine bow_bow loop_...\",\"<b>Topic 226</b>: regard enrondynegy_pet...\",\"<b>Topic 227</b>: associate analyst_unce...\",\"<b>Topic 228</b>: jim jim_jim sure_john ...\",\"<b>Topic 229</b>: logistics team_report ...\",\"<b>Topic 230</b>: rick rick_rick agree_t...\",\"<b>Topic 231</b>: mmbtud delivery_capaci...\",\"<b>Topic 232</b>: hello hello_everyone h...\",\"<b>Topic 233</b>: image image_address im...\",\"<b>Topic 234</b>: health center_employee...\",\"<b>Topic 235</b>: silver oak_valley bott...\",\"<b>Topic 236</b>: piras website_pira onl...\",\"<b>Topic 237</b>: online offer_discount ...\",\"<b>Topic 238</b>: temp group_internet ve...\",\"<b>Topic 239</b>: description alumnus_fo...\",\"<b>Topic 240</b>: gas pipeline_texas eas...\",\"<b>Topic 241</b>: collateral annex_user ...\",\"<b>Topic 242</b>: wager list_sport inter...\",\"<b>Topic 243</b>: user receive_outage ac...\",\"<b>Topic 244</b>: discus discus_like dis...\",\"<b>Topic 245</b>: realtime market_market...\",\"<b>Topic 246</b>: image image_list price...\",\"<b>Topic 247</b>: november preschedule_n...\",\"<b>Topic 248</b>: office daniel_daniel d...\",\"<b>Topic 249</b>: contact contact_abilit...\",\"<b>Topic 250</b>: account effective_resp...\",\"<b>Topic 251</b>: launch image_image ima...\",\"<b>Topic 252</b>: izio system_email izio...\",\"<b>Topic 253</b>: motley fool_fool get_s...\",\"<b>Topic 254</b>: nat gas_east nat_sell ...\",\"<b>Topic 255</b>: review review_review p...\",\"<b>Topic 256</b>: request conf_videoconn...\",\"<b>Topic 257</b>: area restriction_marke...\",\"<b>Topic 258</b>: designate seat_seat lo...\",\"<b>Topic 259</b>: november click_interco...\",\"<b>Topic 260</b>: contact contact_postpo...\",\"<b>Topic 261</b>: current shipper_shippe...\",\"<b>Topic 262</b>: likely line_horowitz n...\",\"<b>Topic 263</b>: able one_hold run_spac...\",\"<b>Topic 264</b>: super saturday_dolores...\",\"<b>Topic 265</b>: suspension bridge_west...\",\"<b>Topic 266</b>: everyday hero_chairman...\",\"<b>Topic 267</b>: find cure_diabetes bus...\",\"<b>Topic 268</b>: advise eric_wilkins in...\",\"<b>Topic 269</b>: firm start_engytype fi...\",\"<b>Topic 270</b>: disk layout_original d...\",\"<b>Topic 271</b>: publish sheet_sheet ry...\",\"<b>Topic 272</b>: mon nov_nov cst_tue no...\",\"<b>Topic 273</b>: west market_market tri...\",\"<b>Topic 274</b>: keep whole_whole langu...\",\"<b>Topic 275</b>: energy importexport_im...\",\"<b>Topic 276</b>: web address_invitation...\",\"<b>Topic 277</b>: alignleft classemailte...\",\"<b>Topic 278</b>: emca mosquito_subject ...\",\"<b>Topic 279</b>: team room_room locate_...\",\"<b>Topic 280</b>: adjustment feel_questi...\",\"<b>Topic 281</b>: volunteer opportunity_...\",\"<b>Topic 282</b>: list update_update lis...\",\"<b>Topic 283</b>: new build_zone map_wor...\",\"<b>Topic 284</b>: schedule outage_sit th...\",\"<b>Topic 285</b>: total candidate_associ...\",\"<b>Topic 286</b>: legal edge_edge portal...\",\"<b>Topic 287</b>: office wednesday_laura...\",\"<b>Topic 288</b>: craig dean_dean craig_...\",\"<b>Topic 289</b>: top keiths_keith note_...\",\"<b>Topic 290</b>: interchgid epmicisoyel...\",\"<b>Topic 291</b>: marie marie_account se...\",\"<b>Topic 292</b>: contest win_union nove...\",\"<b>Topic 293</b>: transmission expansion...\",\"<b>Topic 294</b>: acquisitionssyndicated...\",\"<b>Topic 295</b>: power deliver_consent ...\",\"<b>Topic 296</b>: lady gentleman_gentlem...\",\"<b>Topic 297</b>: group reference_regula...\",\"<b>Topic 298</b>: distress counterpartie...\",\"<b>Topic 299</b>: bear gift_cps kid_bear...\",\"<b>Topic 300</b>: spend take_patrice pat...\",\"<b>Topic 301</b>: desk deal_desk desk_we...\",\"<b>Topic 302</b>: firm power_power deliv...\",\"<b>Topic 303</b>: paul paul_paul hello_h...\",\"<b>Topic 304</b>: audrey robertson_rober...\",\"<b>Topic 305</b>: dernehl administrative...\",\"<b>Topic 306</b>: prefer reader_calyx co...\",\"<b>Topic 307</b>: power deliver_date spe...\",\"<b>Topic 308</b>: identify exhibit_conta...\",\"<b>Topic 309</b>: sit london_schedule ou...\",\"<b>Topic 310</b>: firm start_amt final_f...\",\"<b>Topic 311</b>: copy scan_reference co...\",\"<b>Topic 312</b>: save price_price list_...\",\"<b>Topic 313</b>: service tariff_nyiso r...\",\"<b>Topic 314</b>: ecarmet security_secur...\",\"<b>Topic 315</b>: accordingly question_i...\",\"<b>Topic 316</b>: campbell larry_larry c...\",\"<b>Topic 317</b>: confirmation available...\",\"<b>Topic 318</b>: carr future_contain he...\",\"<b>Topic 319</b>: mba info_rice mba_info...\",\"<b>Topic 320</b>: corp tel_johnson execu...\",\"<b>Topic 321</b>: chief financial_wall s...\",\"<b>Topic 322</b>: attachment attachment_...\",\"<b>Topic 323</b>: credit derivative_cred...\",\"<b>Topic 324</b>: efs transaction_exchan...\",\"<b>Topic 325</b>: occur november_also cl...\",\"<b>Topic 326</b>: ivey alumnus_texas ex_...\",\"<b>Topic 327</b>: excel workbook_curve m...\",\"<b>Topic 328</b>: revenue management_pro...\",\"<b>Topic 329</b>: near mph_minimum centr...\",\"<b>Topic 330</b>: customer service_one e...\",\"<b>Topic 331</b>: chris meet_team plan_t...\",\"<b>Topic 332</b>: contact person_check e...\",\"<b>Topic 333</b>: keesler senior_martha ...\",\"<b>Topic 334</b>: broke deal_book proces...\",\"<b>Topic 335</b>: word day_blank email_s...\",\"<b>Topic 336</b>: paste hyperlink_click ...\",\"<b>Topic 337</b>: andy ring_ring sandra_...\",\"<b>Topic 338</b>: document scan_referenc...\",\"<b>Topic 339</b>: generation schedule_sc...\",\"<b>Topic 340</b>: fountain valley_year a...\",\"<b>Topic 341</b>: epmi long_epmi short_s...\",\"<b>Topic 342</b>: nfrm start_engytype nf...\",\"<b>Topic 343</b>: dec jan_jan mar_nov de...\",\"<b>Topic 344</b>: net agreement_receivab...\",\"<b>Topic 345</b>: access customer_direct...\",\"<b>Topic 346</b>: corn soybean_energy de...\",\"<b>Topic 347</b>: user enrondlr_bnaweb u...\",\"<b>Topic 348</b>: department outagedbf_t...\",\"<b>Topic 349</b>: phantom stock_financia...\",\"<b>Topic 350</b>: loocke north_kelly loo...\",\"<b>Topic 351</b>: team roster_roster tea...\",\"<b>Topic 352</b>: annual retreat_luncheo...\",\"<b>Topic 353</b>: area ft_market area_le...\",\"<b>Topic 354</b>: meet cancel_today canc...\",\"<b>Topic 355</b>: request request_create...\",\"<b>Topic 356</b>: external candidate_ena...\",\"<b>Topic 357</b>: cum laude_law school_l...\",\"<b>Topic 358</b>: attachment thereto_ema...\",\"<b>Topic 359</b>: gas phy_new product_pr...\",\"<b>Topic 360</b>: day day_facility rest_...\",\"<b>Topic 361</b>: reminder mandatory_nov...\",\"<b>Topic 362</b>: information security_n...\",\"<b>Topic 363</b>: item number_sale win_s...\",\"<b>Topic 364</b>: ron darrell_sheraton u...\",\"<b>Topic 365</b>: calgenunits start_unit...\",\"<b>Topic 366</b>: slow browser_scroll vi...\",\"<b>Topic 367</b>: nerc gisb_rto board_tr...\",\"<b>Topic 368</b>: fantasy football_gridi...\",\"<b>Topic 369</b>: keiser wholesale_holly...\",\"<b>Topic 370</b>: management member_firs...\",\"<b>Topic 371</b>: review quiz_math cours...\",\"<b>Topic 372</b>: legal risk_risk memo_l...\",\"<b>Topic 373</b>: pressreleasedoc energy...\",\"<b>Topic 374</b>: blue mountain_greet ca...\",\"<b>Topic 375</b>: schedule final_firm tr...\",\"<b>Topic 376</b>: divdiv divdivgtfrom_ht...\",\"<b>Topic 377</b>: shortname change_gcp t...\",\"<b>Topic 378</b>: process allow_hear enc...\",\"<b>Topic 379</b>: alignrightfont size_si...\",\"<b>Topic 380</b>: park city_deer valley_...\",\"<b>Topic 381</b>: novmar forget_tight tw...\",\"<b>Topic 382</b>: rod rod_afternoon rod_...\",\"<b>Topic 383</b>: rsvp via_tuesday octob...\",\"<b>Topic 384</b>: rat contract_full revi...\",\"<b>Topic 385</b>: forward case_already r...\",\"<b>Topic 386</b>: request extension_mark...\",\"<b>Topic 387</b>: nyiso reserve_hour beg...\"],\"type\":\"bar\"}],                        {\"template\":{\"data\":{\"barpolar\":[{\"marker\":{\"line\":{\"color\":\"white\",\"width\":0.5},\"pattern\":{\"fillmode\":\"overlay\",\"size\":10,\"solidity\":0.2}},\"type\":\"barpolar\"}],\"bar\":[{\"error_x\":{\"color\":\"rgb(36,36,36)\"},\"error_y\":{\"color\":\"rgb(36,36,36)\"},\"marker\":{\"line\":{\"color\":\"white\",\"width\":0.5},\"pattern\":{\"fillmode\":\"overlay\",\"size\":10,\"solidity\":0.2}},\"type\":\"bar\"}],\"carpet\":[{\"aaxis\":{\"endlinecolor\":\"rgb(36,36,36)\",\"gridcolor\":\"white\",\"linecolor\":\"white\",\"minorgridcolor\":\"white\",\"startlinecolor\":\"rgb(36,36,36)\"},\"baxis\":{\"endlinecolor\":\"rgb(36,36,36)\",\"gridcolor\":\"white\",\"linecolor\":\"white\",\"minorgridcolor\":\"white\",\"startlinecolor\":\"rgb(36,36,36)\"},\"type\":\"carpet\"}],\"choropleth\":[{\"colorbar\":{\"outlinewidth\":1,\"tickcolor\":\"rgb(36,36,36)\",\"ticks\":\"outside\"},\"type\":\"choropleth\"}],\"contourcarpet\":[{\"colorbar\":{\"outlinewidth\":1,\"tickcolor\":\"rgb(36,36,36)\",\"ticks\":\"outside\"},\"type\":\"contourcarpet\"}],\"contour\":[{\"colorbar\":{\"outlinewidth\":1,\"tickcolor\":\"rgb(36,36,36)\",\"ticks\":\"outside\"},\"colorscale\":[[0.0,\"#440154\"],[0.1111111111111111,\"#482878\"],[0.2222222222222222,\"#3e4989\"],[0.3333333333333333,\"#31688e\"],[0.4444444444444444,\"#26828e\"],[0.5555555555555556,\"#1f9e89\"],[0.6666666666666666,\"#35b779\"],[0.7777777777777778,\"#6ece58\"],[0.8888888888888888,\"#b5de2b\"],[1.0,\"#fde725\"]],\"type\":\"contour\"}],\"heatmapgl\":[{\"colorbar\":{\"outlinewidth\":1,\"tickcolor\":\"rgb(36,36,36)\",\"ticks\":\"outside\"},\"colorscale\":[[0.0,\"#440154\"],[0.1111111111111111,\"#482878\"],[0.2222222222222222,\"#3e4989\"],[0.3333333333333333,\"#31688e\"],[0.4444444444444444,\"#26828e\"],[0.5555555555555556,\"#1f9e89\"],[0.6666666666666666,\"#35b779\"],[0.7777777777777778,\"#6ece58\"],[0.8888888888888888,\"#b5de2b\"],[1.0,\"#fde725\"]],\"type\":\"heatmapgl\"}],\"heatmap\":[{\"colorbar\":{\"outlinewidth\":1,\"tickcolor\":\"rgb(36,36,36)\",\"ticks\":\"outside\"},\"colorscale\":[[0.0,\"#440154\"],[0.1111111111111111,\"#482878\"],[0.2222222222222222,\"#3e4989\"],[0.3333333333333333,\"#31688e\"],[0.4444444444444444,\"#26828e\"],[0.5555555555555556,\"#1f9e89\"],[0.6666666666666666,\"#35b779\"],[0.7777777777777778,\"#6ece58\"],[0.8888888888888888,\"#b5de2b\"],[1.0,\"#fde725\"]],\"type\":\"heatmap\"}],\"histogram2dcontour\":[{\"colorbar\":{\"outlinewidth\":1,\"tickcolor\":\"rgb(36,36,36)\",\"ticks\":\"outside\"},\"colorscale\":[[0.0,\"#440154\"],[0.1111111111111111,\"#482878\"],[0.2222222222222222,\"#3e4989\"],[0.3333333333333333,\"#31688e\"],[0.4444444444444444,\"#26828e\"],[0.5555555555555556,\"#1f9e89\"],[0.6666666666666666,\"#35b779\"],[0.7777777777777778,\"#6ece58\"],[0.8888888888888888,\"#b5de2b\"],[1.0,\"#fde725\"]],\"type\":\"histogram2dcontour\"}],\"histogram2d\":[{\"colorbar\":{\"outlinewidth\":1,\"tickcolor\":\"rgb(36,36,36)\",\"ticks\":\"outside\"},\"colorscale\":[[0.0,\"#440154\"],[0.1111111111111111,\"#482878\"],[0.2222222222222222,\"#3e4989\"],[0.3333333333333333,\"#31688e\"],[0.4444444444444444,\"#26828e\"],[0.5555555555555556,\"#1f9e89\"],[0.6666666666666666,\"#35b779\"],[0.7777777777777778,\"#6ece58\"],[0.8888888888888888,\"#b5de2b\"],[1.0,\"#fde725\"]],\"type\":\"histogram2d\"}],\"histogram\":[{\"marker\":{\"line\":{\"color\":\"white\",\"width\":0.6}},\"type\":\"histogram\"}],\"mesh3d\":[{\"colorbar\":{\"outlinewidth\":1,\"tickcolor\":\"rgb(36,36,36)\",\"ticks\":\"outside\"},\"type\":\"mesh3d\"}],\"parcoords\":[{\"line\":{\"colorbar\":{\"outlinewidth\":1,\"tickcolor\":\"rgb(36,36,36)\",\"ticks\":\"outside\"}},\"type\":\"parcoords\"}],\"pie\":[{\"automargin\":true,\"type\":\"pie\"}],\"scatter3d\":[{\"line\":{\"colorbar\":{\"outlinewidth\":1,\"tickcolor\":\"rgb(36,36,36)\",\"ticks\":\"outside\"}},\"marker\":{\"colorbar\":{\"outlinewidth\":1,\"tickcolor\":\"rgb(36,36,36)\",\"ticks\":\"outside\"}},\"type\":\"scatter3d\"}],\"scattercarpet\":[{\"marker\":{\"colorbar\":{\"outlinewidth\":1,\"tickcolor\":\"rgb(36,36,36)\",\"ticks\":\"outside\"}},\"type\":\"scattercarpet\"}],\"scattergeo\":[{\"marker\":{\"colorbar\":{\"outlinewidth\":1,\"tickcolor\":\"rgb(36,36,36)\",\"ticks\":\"outside\"}},\"type\":\"scattergeo\"}],\"scattergl\":[{\"marker\":{\"colorbar\":{\"outlinewidth\":1,\"tickcolor\":\"rgb(36,36,36)\",\"ticks\":\"outside\"}},\"type\":\"scattergl\"}],\"scattermapbox\":[{\"marker\":{\"colorbar\":{\"outlinewidth\":1,\"tickcolor\":\"rgb(36,36,36)\",\"ticks\":\"outside\"}},\"type\":\"scattermapbox\"}],\"scatterpolargl\":[{\"marker\":{\"colorbar\":{\"outlinewidth\":1,\"tickcolor\":\"rgb(36,36,36)\",\"ticks\":\"outside\"}},\"type\":\"scatterpolargl\"}],\"scatterpolar\":[{\"marker\":{\"colorbar\":{\"outlinewidth\":1,\"tickcolor\":\"rgb(36,36,36)\",\"ticks\":\"outside\"}},\"type\":\"scatterpolar\"}],\"scatter\":[{\"marker\":{\"colorbar\":{\"outlinewidth\":1,\"tickcolor\":\"rgb(36,36,36)\",\"ticks\":\"outside\"}},\"type\":\"scatter\"}],\"scatterternary\":[{\"marker\":{\"colorbar\":{\"outlinewidth\":1,\"tickcolor\":\"rgb(36,36,36)\",\"ticks\":\"outside\"}},\"type\":\"scatterternary\"}],\"surface\":[{\"colorbar\":{\"outlinewidth\":1,\"tickcolor\":\"rgb(36,36,36)\",\"ticks\":\"outside\"},\"colorscale\":[[0.0,\"#440154\"],[0.1111111111111111,\"#482878\"],[0.2222222222222222,\"#3e4989\"],[0.3333333333333333,\"#31688e\"],[0.4444444444444444,\"#26828e\"],[0.5555555555555556,\"#1f9e89\"],[0.6666666666666666,\"#35b779\"],[0.7777777777777778,\"#6ece58\"],[0.8888888888888888,\"#b5de2b\"],[1.0,\"#fde725\"]],\"type\":\"surface\"}],\"table\":[{\"cells\":{\"fill\":{\"color\":\"rgb(237,237,237)\"},\"line\":{\"color\":\"white\"}},\"header\":{\"fill\":{\"color\":\"rgb(217,217,217)\"},\"line\":{\"color\":\"white\"}},\"type\":\"table\"}]},\"layout\":{\"annotationdefaults\":{\"arrowhead\":0,\"arrowwidth\":1},\"autotypenumbers\":\"strict\",\"coloraxis\":{\"colorbar\":{\"outlinewidth\":1,\"tickcolor\":\"rgb(36,36,36)\",\"ticks\":\"outside\"}},\"colorscale\":{\"diverging\":[[0.0,\"rgb(103,0,31)\"],[0.1,\"rgb(178,24,43)\"],[0.2,\"rgb(214,96,77)\"],[0.3,\"rgb(244,165,130)\"],[0.4,\"rgb(253,219,199)\"],[0.5,\"rgb(247,247,247)\"],[0.6,\"rgb(209,229,240)\"],[0.7,\"rgb(146,197,222)\"],[0.8,\"rgb(67,147,195)\"],[0.9,\"rgb(33,102,172)\"],[1.0,\"rgb(5,48,97)\"]],\"sequential\":[[0.0,\"#440154\"],[0.1111111111111111,\"#482878\"],[0.2222222222222222,\"#3e4989\"],[0.3333333333333333,\"#31688e\"],[0.4444444444444444,\"#26828e\"],[0.5555555555555556,\"#1f9e89\"],[0.6666666666666666,\"#35b779\"],[0.7777777777777778,\"#6ece58\"],[0.8888888888888888,\"#b5de2b\"],[1.0,\"#fde725\"]],\"sequentialminus\":[[0.0,\"#440154\"],[0.1111111111111111,\"#482878\"],[0.2222222222222222,\"#3e4989\"],[0.3333333333333333,\"#31688e\"],[0.4444444444444444,\"#26828e\"],[0.5555555555555556,\"#1f9e89\"],[0.6666666666666666,\"#35b779\"],[0.7777777777777778,\"#6ece58\"],[0.8888888888888888,\"#b5de2b\"],[1.0,\"#fde725\"]]},\"colorway\":[\"#1F77B4\",\"#FF7F0E\",\"#2CA02C\",\"#D62728\",\"#9467BD\",\"#8C564B\",\"#E377C2\",\"#7F7F7F\",\"#BCBD22\",\"#17BECF\"],\"font\":{\"color\":\"rgb(36,36,36)\"},\"geo\":{\"bgcolor\":\"white\",\"lakecolor\":\"white\",\"landcolor\":\"white\",\"showlakes\":true,\"showland\":true,\"subunitcolor\":\"white\"},\"hoverlabel\":{\"align\":\"left\"},\"hovermode\":\"closest\",\"mapbox\":{\"style\":\"light\"},\"paper_bgcolor\":\"white\",\"plot_bgcolor\":\"white\",\"polar\":{\"angularaxis\":{\"gridcolor\":\"rgb(232,232,232)\",\"linecolor\":\"rgb(36,36,36)\",\"showgrid\":false,\"showline\":true,\"ticks\":\"outside\"},\"bgcolor\":\"white\",\"radialaxis\":{\"gridcolor\":\"rgb(232,232,232)\",\"linecolor\":\"rgb(36,36,36)\",\"showgrid\":false,\"showline\":true,\"ticks\":\"outside\"}},\"scene\":{\"xaxis\":{\"backgroundcolor\":\"white\",\"gridcolor\":\"rgb(232,232,232)\",\"gridwidth\":2,\"linecolor\":\"rgb(36,36,36)\",\"showbackground\":true,\"showgrid\":false,\"showline\":true,\"ticks\":\"outside\",\"zeroline\":false,\"zerolinecolor\":\"rgb(36,36,36)\"},\"yaxis\":{\"backgroundcolor\":\"white\",\"gridcolor\":\"rgb(232,232,232)\",\"gridwidth\":2,\"linecolor\":\"rgb(36,36,36)\",\"showbackground\":true,\"showgrid\":false,\"showline\":true,\"ticks\":\"outside\",\"zeroline\":false,\"zerolinecolor\":\"rgb(36,36,36)\"},\"zaxis\":{\"backgroundcolor\":\"white\",\"gridcolor\":\"rgb(232,232,232)\",\"gridwidth\":2,\"linecolor\":\"rgb(36,36,36)\",\"showbackground\":true,\"showgrid\":false,\"showline\":true,\"ticks\":\"outside\",\"zeroline\":false,\"zerolinecolor\":\"rgb(36,36,36)\"}},\"shapedefaults\":{\"fillcolor\":\"black\",\"line\":{\"width\":0},\"opacity\":0.3},\"ternary\":{\"aaxis\":{\"gridcolor\":\"rgb(232,232,232)\",\"linecolor\":\"rgb(36,36,36)\",\"showgrid\":false,\"showline\":true,\"ticks\":\"outside\"},\"baxis\":{\"gridcolor\":\"rgb(232,232,232)\",\"linecolor\":\"rgb(36,36,36)\",\"showgrid\":false,\"showline\":true,\"ticks\":\"outside\"},\"bgcolor\":\"white\",\"caxis\":{\"gridcolor\":\"rgb(232,232,232)\",\"linecolor\":\"rgb(36,36,36)\",\"showgrid\":false,\"showline\":true,\"ticks\":\"outside\"}},\"title\":{\"x\":0.05},\"xaxis\":{\"automargin\":true,\"gridcolor\":\"rgb(232,232,232)\",\"linecolor\":\"rgb(36,36,36)\",\"showgrid\":false,\"showline\":true,\"ticks\":\"outside\",\"title\":{\"standoff\":15},\"zeroline\":false,\"zerolinecolor\":\"rgb(36,36,36)\"},\"yaxis\":{\"automargin\":true,\"gridcolor\":\"rgb(232,232,232)\",\"linecolor\":\"rgb(36,36,36)\",\"showgrid\":false,\"showline\":true,\"ticks\":\"outside\",\"title\":{\"standoff\":15},\"zeroline\":false,\"zerolinecolor\":\"rgb(36,36,36)\"}}},\"title\":{\"font\":{\"size\":22,\"color\":\"Black\"},\"text\":\"<b>Topic Probability Distribution\",\"y\":0.95,\"x\":0.5,\"xanchor\":\"center\",\"yanchor\":\"top\"},\"hoverlabel\":{\"font\":{\"size\":16,\"family\":\"Rockwell\"},\"bgcolor\":\"white\"},\"xaxis\":{\"title\":{\"text\":\"Probability\"}},\"width\":700,\"height\":700},                        {\"responsive\": true}                    ).then(function(){\n",
              "                            \n",
              "var gd = document.getElementById('72e00b6b-f37d-45f1-8e05-1e26a0fc96f4');\n",
              "var x = new MutationObserver(function (mutations, observer) {{\n",
              "        var display = window.getComputedStyle(gd).display;\n",
              "        if (!display || display === 'none') {{\n",
              "            console.log([gd, 'removed!']);\n",
              "            Plotly.purge(gd);\n",
              "            observer.disconnect();\n",
              "        }}\n",
              "}});\n",
              "\n",
              "// Listen for the removal of the full notebook cells\n",
              "var notebookContainer = gd.closest('#notebook-container');\n",
              "if (notebookContainer) {{\n",
              "    x.observe(notebookContainer, {childList: true});\n",
              "}}\n",
              "\n",
              "// Listen for the clearing of the current output cell\n",
              "var outputEl = gd.closest('.output');\n",
              "if (outputEl) {{\n",
              "    x.observe(outputEl, {childList: true});\n",
              "}}\n",
              "\n",
              "                        })                };                            </script>        </div>\n",
              "</body>\n",
              "</html>"
            ]
          },
          "metadata": {}
        }
      ]
    },
    {
      "cell_type": "code",
      "source": [
        "topic_model.visualize_hierarchy(top_n_topics=10)"
      ],
      "metadata": {
        "colab": {
          "base_uri": "https://localhost:8080/",
          "height": 367
        },
        "id": "EiMg27J4yn5a",
        "outputId": "5ea7b02f-c193-42de-db26-ab4e6d00e270"
      },
      "execution_count": 43,
      "outputs": [
        {
          "output_type": "display_data",
          "data": {
            "text/html": [
              "<html>\n",
              "<head><meta charset=\"utf-8\" /></head>\n",
              "<body>\n",
              "    <div>            <script src=\"https://cdnjs.cloudflare.com/ajax/libs/mathjax/2.7.5/MathJax.js?config=TeX-AMS-MML_SVG\"></script><script type=\"text/javascript\">if (window.MathJax) {MathJax.Hub.Config({SVG: {font: \"STIX-Web\"}});}</script>                <script type=\"text/javascript\">window.PlotlyConfig = {MathJaxConfig: 'local'};</script>\n",
              "        <script src=\"https://cdn.plot.ly/plotly-2.8.3.min.js\"></script>                <div id=\"90f5a6b0-57c0-4d92-99d5-3fbff7397598\" class=\"plotly-graph-div\" style=\"height:350px; width:1000px;\"></div>            <script type=\"text/javascript\">                                    window.PLOTLYENV=window.PLOTLYENV || {};                                    if (document.getElementById(\"90f5a6b0-57c0-4d92-99d5-3fbff7397598\")) {                    Plotly.newPlot(                        \"90f5a6b0-57c0-4d92-99d5-3fbff7397598\",                        [{\"hoverinfo\":\"text\",\"marker\":{\"color\":\"rgb(0,116,217)\"},\"mode\":\"lines\",\"x\":[0.0,1.1859035634695276,1.1859035634695276,0.0],\"xaxis\":\"x\",\"y\":[-5.0,-5.0,-15.0,-15.0],\"yaxis\":\"y\",\"type\":\"scatter\"},{\"hoverinfo\":\"text\",\"marker\":{\"color\":\"rgb(0,116,217)\"},\"mode\":\"lines\",\"x\":[0.0,1.4071690302311095,1.4071690302311095,0.0],\"xaxis\":\"x\",\"y\":[-25.0,-25.0,-35.0,-35.0],\"yaxis\":\"y\",\"type\":\"scatter\"},{\"hoverinfo\":\"text\",\"marker\":{\"color\":\"rgb(0,116,217)\"},\"mode\":\"lines\",\"x\":[1.4071690302311095,1.4114211501679979,1.4114211501679979,0.0],\"xaxis\":\"x\",\"y\":[-30.0,-30.0,-45.0,-45.0],\"yaxis\":\"y\",\"type\":\"scatter\"},{\"hoverinfo\":\"text\",\"marker\":{\"color\":\"rgb(0,116,217)\"},\"mode\":\"lines\",\"x\":[0.0,1.403081042481074,1.403081042481074,0.0],\"xaxis\":\"x\",\"y\":[-55.0,-55.0,-65.0,-65.0],\"yaxis\":\"y\",\"type\":\"scatter\"},{\"hoverinfo\":\"text\",\"marker\":{\"color\":\"rgb(0,116,217)\"},\"mode\":\"lines\",\"x\":[0.0,1.3941438243584632,1.3941438243584632,0.0],\"xaxis\":\"x\",\"y\":[-75.0,-75.0,-85.0,-85.0],\"yaxis\":\"y\",\"type\":\"scatter\"},{\"hoverinfo\":\"text\",\"marker\":{\"color\":\"rgb(0,116,217)\"},\"mode\":\"lines\",\"x\":[1.403081042481074,1.4080001795011308,1.4080001795011308,1.3941438243584632],\"xaxis\":\"x\",\"y\":[-60.0,-60.0,-80.0,-80.0],\"yaxis\":\"y\",\"type\":\"scatter\"},{\"hoverinfo\":\"text\",\"marker\":{\"color\":\"rgb(0,116,217)\"},\"mode\":\"lines\",\"x\":[1.4080001795011308,1.4109731686183138,1.4109731686183138,0.0],\"xaxis\":\"x\",\"y\":[-70.0,-70.0,-95.0,-95.0],\"yaxis\":\"y\",\"type\":\"scatter\"},{\"hoverinfo\":\"text\",\"marker\":{\"color\":\"rgb(0,116,217)\"},\"mode\":\"lines\",\"x\":[1.4114211501679979,1.4261050851843182,1.4261050851843182,1.4109731686183138],\"xaxis\":\"x\",\"y\":[-37.5,-37.5,-82.5,-82.5],\"yaxis\":\"y\",\"type\":\"scatter\"},{\"hoverinfo\":\"text\",\"marker\":{\"color\":\"rgb(0,116,217)\"},\"mode\":\"lines\",\"x\":[1.1859035634695276,1.6061785225410612,1.6061785225410612,1.4261050851843182],\"xaxis\":\"x\",\"y\":[-10.0,-10.0,-60.0,-60.0],\"yaxis\":\"y\",\"type\":\"scatter\"}],                        {\"autosize\":false,\"height\":350,\"hovermode\":\"closest\",\"showlegend\":false,\"width\":1000,\"xaxis\":{\"mirror\":\"allticks\",\"rangemode\":\"tozero\",\"showgrid\":false,\"showline\":true,\"showticklabels\":true,\"ticks\":\"outside\",\"type\":\"linear\",\"zeroline\":false},\"yaxis\":{\"mirror\":\"allticks\",\"rangemode\":\"tozero\",\"showgrid\":false,\"showline\":true,\"showticklabels\":true,\"tickmode\":\"array\",\"ticks\":\"outside\",\"ticktext\":[\"0_continue start_detect log...\",\"7_transtype final_mkttype t...\",\"5_clinic november_jones int...\",\"4_oneway tofrom_hotel resor...\",\"9_write nyisotechexchange_d...\",\"8_option premium_payment du...\",\"3_another one_need anything...\",\"1_god bless_work hard_want ...\",\"2_operational risk_edt oct_...\",\"6_beta tent_reunion year_co...\"],\"tickvals\":[-5.0,-15.0,-25.0,-35.0,-45.0,-55.0,-65.0,-75.0,-85.0,-95.0],\"type\":\"linear\",\"zeroline\":false,\"range\":[-100.0,0.0]},\"template\":{\"data\":{\"barpolar\":[{\"marker\":{\"line\":{\"color\":\"white\",\"width\":0.5},\"pattern\":{\"fillmode\":\"overlay\",\"size\":10,\"solidity\":0.2}},\"type\":\"barpolar\"}],\"bar\":[{\"error_x\":{\"color\":\"#2a3f5f\"},\"error_y\":{\"color\":\"#2a3f5f\"},\"marker\":{\"line\":{\"color\":\"white\",\"width\":0.5},\"pattern\":{\"fillmode\":\"overlay\",\"size\":10,\"solidity\":0.2}},\"type\":\"bar\"}],\"carpet\":[{\"aaxis\":{\"endlinecolor\":\"#2a3f5f\",\"gridcolor\":\"#C8D4E3\",\"linecolor\":\"#C8D4E3\",\"minorgridcolor\":\"#C8D4E3\",\"startlinecolor\":\"#2a3f5f\"},\"baxis\":{\"endlinecolor\":\"#2a3f5f\",\"gridcolor\":\"#C8D4E3\",\"linecolor\":\"#C8D4E3\",\"minorgridcolor\":\"#C8D4E3\",\"startlinecolor\":\"#2a3f5f\"},\"type\":\"carpet\"}],\"choropleth\":[{\"colorbar\":{\"outlinewidth\":0,\"ticks\":\"\"},\"type\":\"choropleth\"}],\"contourcarpet\":[{\"colorbar\":{\"outlinewidth\":0,\"ticks\":\"\"},\"type\":\"contourcarpet\"}],\"contour\":[{\"colorbar\":{\"outlinewidth\":0,\"ticks\":\"\"},\"colorscale\":[[0.0,\"#0d0887\"],[0.1111111111111111,\"#46039f\"],[0.2222222222222222,\"#7201a8\"],[0.3333333333333333,\"#9c179e\"],[0.4444444444444444,\"#bd3786\"],[0.5555555555555556,\"#d8576b\"],[0.6666666666666666,\"#ed7953\"],[0.7777777777777778,\"#fb9f3a\"],[0.8888888888888888,\"#fdca26\"],[1.0,\"#f0f921\"]],\"type\":\"contour\"}],\"heatmapgl\":[{\"colorbar\":{\"outlinewidth\":0,\"ticks\":\"\"},\"colorscale\":[[0.0,\"#0d0887\"],[0.1111111111111111,\"#46039f\"],[0.2222222222222222,\"#7201a8\"],[0.3333333333333333,\"#9c179e\"],[0.4444444444444444,\"#bd3786\"],[0.5555555555555556,\"#d8576b\"],[0.6666666666666666,\"#ed7953\"],[0.7777777777777778,\"#fb9f3a\"],[0.8888888888888888,\"#fdca26\"],[1.0,\"#f0f921\"]],\"type\":\"heatmapgl\"}],\"heatmap\":[{\"colorbar\":{\"outlinewidth\":0,\"ticks\":\"\"},\"colorscale\":[[0.0,\"#0d0887\"],[0.1111111111111111,\"#46039f\"],[0.2222222222222222,\"#7201a8\"],[0.3333333333333333,\"#9c179e\"],[0.4444444444444444,\"#bd3786\"],[0.5555555555555556,\"#d8576b\"],[0.6666666666666666,\"#ed7953\"],[0.7777777777777778,\"#fb9f3a\"],[0.8888888888888888,\"#fdca26\"],[1.0,\"#f0f921\"]],\"type\":\"heatmap\"}],\"histogram2dcontour\":[{\"colorbar\":{\"outlinewidth\":0,\"ticks\":\"\"},\"colorscale\":[[0.0,\"#0d0887\"],[0.1111111111111111,\"#46039f\"],[0.2222222222222222,\"#7201a8\"],[0.3333333333333333,\"#9c179e\"],[0.4444444444444444,\"#bd3786\"],[0.5555555555555556,\"#d8576b\"],[0.6666666666666666,\"#ed7953\"],[0.7777777777777778,\"#fb9f3a\"],[0.8888888888888888,\"#fdca26\"],[1.0,\"#f0f921\"]],\"type\":\"histogram2dcontour\"}],\"histogram2d\":[{\"colorbar\":{\"outlinewidth\":0,\"ticks\":\"\"},\"colorscale\":[[0.0,\"#0d0887\"],[0.1111111111111111,\"#46039f\"],[0.2222222222222222,\"#7201a8\"],[0.3333333333333333,\"#9c179e\"],[0.4444444444444444,\"#bd3786\"],[0.5555555555555556,\"#d8576b\"],[0.6666666666666666,\"#ed7953\"],[0.7777777777777778,\"#fb9f3a\"],[0.8888888888888888,\"#fdca26\"],[1.0,\"#f0f921\"]],\"type\":\"histogram2d\"}],\"histogram\":[{\"marker\":{\"pattern\":{\"fillmode\":\"overlay\",\"size\":10,\"solidity\":0.2}},\"type\":\"histogram\"}],\"mesh3d\":[{\"colorbar\":{\"outlinewidth\":0,\"ticks\":\"\"},\"type\":\"mesh3d\"}],\"parcoords\":[{\"line\":{\"colorbar\":{\"outlinewidth\":0,\"ticks\":\"\"}},\"type\":\"parcoords\"}],\"pie\":[{\"automargin\":true,\"type\":\"pie\"}],\"scatter3d\":[{\"line\":{\"colorbar\":{\"outlinewidth\":0,\"ticks\":\"\"}},\"marker\":{\"colorbar\":{\"outlinewidth\":0,\"ticks\":\"\"}},\"type\":\"scatter3d\"}],\"scattercarpet\":[{\"marker\":{\"colorbar\":{\"outlinewidth\":0,\"ticks\":\"\"}},\"type\":\"scattercarpet\"}],\"scattergeo\":[{\"marker\":{\"colorbar\":{\"outlinewidth\":0,\"ticks\":\"\"}},\"type\":\"scattergeo\"}],\"scattergl\":[{\"marker\":{\"colorbar\":{\"outlinewidth\":0,\"ticks\":\"\"}},\"type\":\"scattergl\"}],\"scattermapbox\":[{\"marker\":{\"colorbar\":{\"outlinewidth\":0,\"ticks\":\"\"}},\"type\":\"scattermapbox\"}],\"scatterpolargl\":[{\"marker\":{\"colorbar\":{\"outlinewidth\":0,\"ticks\":\"\"}},\"type\":\"scatterpolargl\"}],\"scatterpolar\":[{\"marker\":{\"colorbar\":{\"outlinewidth\":0,\"ticks\":\"\"}},\"type\":\"scatterpolar\"}],\"scatter\":[{\"marker\":{\"colorbar\":{\"outlinewidth\":0,\"ticks\":\"\"}},\"type\":\"scatter\"}],\"scatterternary\":[{\"marker\":{\"colorbar\":{\"outlinewidth\":0,\"ticks\":\"\"}},\"type\":\"scatterternary\"}],\"surface\":[{\"colorbar\":{\"outlinewidth\":0,\"ticks\":\"\"},\"colorscale\":[[0.0,\"#0d0887\"],[0.1111111111111111,\"#46039f\"],[0.2222222222222222,\"#7201a8\"],[0.3333333333333333,\"#9c179e\"],[0.4444444444444444,\"#bd3786\"],[0.5555555555555556,\"#d8576b\"],[0.6666666666666666,\"#ed7953\"],[0.7777777777777778,\"#fb9f3a\"],[0.8888888888888888,\"#fdca26\"],[1.0,\"#f0f921\"]],\"type\":\"surface\"}],\"table\":[{\"cells\":{\"fill\":{\"color\":\"#EBF0F8\"},\"line\":{\"color\":\"white\"}},\"header\":{\"fill\":{\"color\":\"#C8D4E3\"},\"line\":{\"color\":\"white\"}},\"type\":\"table\"}]},\"layout\":{\"annotationdefaults\":{\"arrowcolor\":\"#2a3f5f\",\"arrowhead\":0,\"arrowwidth\":1},\"autotypenumbers\":\"strict\",\"coloraxis\":{\"colorbar\":{\"outlinewidth\":0,\"ticks\":\"\"}},\"colorscale\":{\"diverging\":[[0,\"#8e0152\"],[0.1,\"#c51b7d\"],[0.2,\"#de77ae\"],[0.3,\"#f1b6da\"],[0.4,\"#fde0ef\"],[0.5,\"#f7f7f7\"],[0.6,\"#e6f5d0\"],[0.7,\"#b8e186\"],[0.8,\"#7fbc41\"],[0.9,\"#4d9221\"],[1,\"#276419\"]],\"sequential\":[[0.0,\"#0d0887\"],[0.1111111111111111,\"#46039f\"],[0.2222222222222222,\"#7201a8\"],[0.3333333333333333,\"#9c179e\"],[0.4444444444444444,\"#bd3786\"],[0.5555555555555556,\"#d8576b\"],[0.6666666666666666,\"#ed7953\"],[0.7777777777777778,\"#fb9f3a\"],[0.8888888888888888,\"#fdca26\"],[1.0,\"#f0f921\"]],\"sequentialminus\":[[0.0,\"#0d0887\"],[0.1111111111111111,\"#46039f\"],[0.2222222222222222,\"#7201a8\"],[0.3333333333333333,\"#9c179e\"],[0.4444444444444444,\"#bd3786\"],[0.5555555555555556,\"#d8576b\"],[0.6666666666666666,\"#ed7953\"],[0.7777777777777778,\"#fb9f3a\"],[0.8888888888888888,\"#fdca26\"],[1.0,\"#f0f921\"]]},\"colorway\":[\"#636efa\",\"#EF553B\",\"#00cc96\",\"#ab63fa\",\"#FFA15A\",\"#19d3f3\",\"#FF6692\",\"#B6E880\",\"#FF97FF\",\"#FECB52\"],\"font\":{\"color\":\"#2a3f5f\"},\"geo\":{\"bgcolor\":\"white\",\"lakecolor\":\"white\",\"landcolor\":\"white\",\"showlakes\":true,\"showland\":true,\"subunitcolor\":\"#C8D4E3\"},\"hoverlabel\":{\"align\":\"left\"},\"hovermode\":\"closest\",\"mapbox\":{\"style\":\"light\"},\"paper_bgcolor\":\"white\",\"plot_bgcolor\":\"white\",\"polar\":{\"angularaxis\":{\"gridcolor\":\"#EBF0F8\",\"linecolor\":\"#EBF0F8\",\"ticks\":\"\"},\"bgcolor\":\"white\",\"radialaxis\":{\"gridcolor\":\"#EBF0F8\",\"linecolor\":\"#EBF0F8\",\"ticks\":\"\"}},\"scene\":{\"xaxis\":{\"backgroundcolor\":\"white\",\"gridcolor\":\"#DFE8F3\",\"gridwidth\":2,\"linecolor\":\"#EBF0F8\",\"showbackground\":true,\"ticks\":\"\",\"zerolinecolor\":\"#EBF0F8\"},\"yaxis\":{\"backgroundcolor\":\"white\",\"gridcolor\":\"#DFE8F3\",\"gridwidth\":2,\"linecolor\":\"#EBF0F8\",\"showbackground\":true,\"ticks\":\"\",\"zerolinecolor\":\"#EBF0F8\"},\"zaxis\":{\"backgroundcolor\":\"white\",\"gridcolor\":\"#DFE8F3\",\"gridwidth\":2,\"linecolor\":\"#EBF0F8\",\"showbackground\":true,\"ticks\":\"\",\"zerolinecolor\":\"#EBF0F8\"}},\"shapedefaults\":{\"line\":{\"color\":\"#2a3f5f\"}},\"ternary\":{\"aaxis\":{\"gridcolor\":\"#DFE8F3\",\"linecolor\":\"#A2B1C6\",\"ticks\":\"\"},\"baxis\":{\"gridcolor\":\"#DFE8F3\",\"linecolor\":\"#A2B1C6\",\"ticks\":\"\"},\"bgcolor\":\"white\",\"caxis\":{\"gridcolor\":\"#DFE8F3\",\"linecolor\":\"#A2B1C6\",\"ticks\":\"\"}},\"title\":{\"x\":0.05},\"xaxis\":{\"automargin\":true,\"gridcolor\":\"#EBF0F8\",\"linecolor\":\"#EBF0F8\",\"ticks\":\"\",\"title\":{\"standoff\":15},\"zerolinecolor\":\"#EBF0F8\",\"zerolinewidth\":2},\"yaxis\":{\"automargin\":true,\"gridcolor\":\"#EBF0F8\",\"linecolor\":\"#EBF0F8\",\"ticks\":\"\",\"title\":{\"standoff\":15},\"zerolinecolor\":\"#EBF0F8\",\"zerolinewidth\":2}}},\"title\":{\"font\":{\"size\":22,\"color\":\"Black\"},\"text\":\"<b>Hierarchical Clustering\",\"x\":0.5,\"xanchor\":\"center\",\"yanchor\":\"top\"},\"hoverlabel\":{\"font\":{\"size\":16,\"family\":\"Rockwell\"},\"bgcolor\":\"white\"},\"plot_bgcolor\":\"#ECEFF1\"},                        {\"responsive\": true}                    ).then(function(){\n",
              "                            \n",
              "var gd = document.getElementById('90f5a6b0-57c0-4d92-99d5-3fbff7397598');\n",
              "var x = new MutationObserver(function (mutations, observer) {{\n",
              "        var display = window.getComputedStyle(gd).display;\n",
              "        if (!display || display === 'none') {{\n",
              "            console.log([gd, 'removed!']);\n",
              "            Plotly.purge(gd);\n",
              "            observer.disconnect();\n",
              "        }}\n",
              "}});\n",
              "\n",
              "// Listen for the removal of the full notebook cells\n",
              "var notebookContainer = gd.closest('#notebook-container');\n",
              "if (notebookContainer) {{\n",
              "    x.observe(notebookContainer, {childList: true});\n",
              "}}\n",
              "\n",
              "// Listen for the clearing of the current output cell\n",
              "var outputEl = gd.closest('.output');\n",
              "if (outputEl) {{\n",
              "    x.observe(outputEl, {childList: true});\n",
              "}}\n",
              "\n",
              "                        })                };                            </script>        </div>\n",
              "</body>\n",
              "</html>"
            ]
          },
          "metadata": {}
        }
      ]
    },
    {
      "cell_type": "code",
      "source": [
        "topic_model.visualize_barchart(top_n_topics=10, n_words = 10, width = 300, height = 300)"
      ],
      "metadata": {
        "colab": {
          "base_uri": "https://localhost:8080/",
          "height": 917
        },
        "id": "WwDqnhOGyn8v",
        "outputId": "7e7c9859-0639-47a5-f833-8c0938ada2bb"
      },
      "execution_count": 39,
      "outputs": [
        {
          "output_type": "display_data",
          "data": {
            "text/html": [
              "<html>\n",
              "<head><meta charset=\"utf-8\" /></head>\n",
              "<body>\n",
              "    <div>            <script src=\"https://cdnjs.cloudflare.com/ajax/libs/mathjax/2.7.5/MathJax.js?config=TeX-AMS-MML_SVG\"></script><script type=\"text/javascript\">if (window.MathJax) {MathJax.Hub.Config({SVG: {font: \"STIX-Web\"}});}</script>                <script type=\"text/javascript\">window.PlotlyConfig = {MathJaxConfig: 'local'};</script>\n",
              "        <script src=\"https://cdn.plot.ly/plotly-2.8.3.min.js\"></script>                <div id=\"2cc8d679-1ca2-4ff5-aada-51ec3ebcc1a4\" class=\"plotly-graph-div\" style=\"height:900px; width:1200px;\"></div>            <script type=\"text/javascript\">                                    window.PLOTLYENV=window.PLOTLYENV || {};                                    if (document.getElementById(\"2cc8d679-1ca2-4ff5-aada-51ec3ebcc1a4\")) {                    Plotly.newPlot(                        \"2cc8d679-1ca2-4ff5-aada-51ec3ebcc1a4\",                        [{\"marker\":{\"color\":\"#D55E00\"},\"orientation\":\"h\",\"x\":[0.1125281167514379,0.1126176454938224,0.1126176454938224,0.1126176454938224,0.1126176454938224,0.1126176454938224,0.1126176454938224,0.1126176454938224,0.12366172047869416,0.14506231153231933],\"y\":[\"schedulestxt error  \",\"schedule award  \",\"retrieve price  \",\"hour ancillary  \",\"data process  \",\"award variance  \",\"ancillary schedule  \",\"error retrieve  \",\"detect log  \",\"continue start  \"],\"type\":\"bar\",\"xaxis\":\"x\",\"yaxis\":\"y\"},{\"marker\":{\"color\":\"#0072B2\"},\"orientation\":\"h\",\"x\":[0.0031693323471286582,0.0033584568337521503,0.003369657649100153,0.0033764522215789187,0.0037019371270133558,0.004062680714815119,0.004116180251762109,0.0042876353500498334,0.004361169898239106,0.00528290518629776],\"y\":[\"lay want  \",\"bad investment  \",\"want tell  \",\"time good  \",\"try time  \",\"difficult time  \",\"tough time  \",\"want say  \",\"work hard  \",\"god bless  \"],\"type\":\"bar\",\"xaxis\":\"x2\",\"yaxis\":\"y2\"},{\"marker\":{\"color\":\"#CC79A7\"},\"orientation\":\"h\",\"x\":[0.004104422186892347,0.004104422186892347,0.004104422186892347,0.004583205273829065,0.004666970277368313,0.004680373721585535,0.005501553576978378,0.006242416897778395,0.006746274863263445,0.011326277654058105],\"y\":[\"project low  \",\"addition cheyenne  \",\"probably entire  \",\"fairly low  \",\"risk management  \",\"project get  \",\"member program  \",\"business unit  \",\"edt oct  \",\"operational risk  \"],\"type\":\"bar\",\"xaxis\":\"x3\",\"yaxis\":\"y3\"},{\"marker\":{\"color\":\"#E69F00\"},\"orientation\":\"h\",\"x\":[0.04060780016707939,0.04060780016707939,0.04734099202678062,0.057115126486760266,0.0599013898592464,0.07448827626824034,0.07448827626824034,0.07448827626824034,0.07609949843027795,0.07687925057795693],\"y\":[\"success view  \",\"happen sound  \",\"think good  \",\"one note  \",\"still good  \",\"failure today  \",\"today failure  \",\"test sure  \",\"need anything  \",\"another one  \"],\"type\":\"bar\",\"xaxis\":\"x4\",\"yaxis\":\"y4\"},{\"marker\":{\"color\":\"#56B4E9\"},\"orientation\":\"h\",\"x\":[0.0067639347398362245,0.006866287967008282,0.007016941940099068,0.0071316352985795976,0.007589903964265784,0.008401987268563792,0.009208965362241655,0.010286725001475386,0.01056413731441184,0.021960723353352526],\"y\":[\"advance reservation  \",\"car rental  \",\"dallasft worth  \",\"worth dfw  \",\"offer valid  \",\"point sheraton  \",\"four point  \",\"term condition  \",\"hotel resort  \",\"oneway tofrom  \"],\"type\":\"bar\",\"xaxis\":\"x5\",\"yaxis\":\"y5\"},{\"marker\":{\"color\":\"#009E73\"},\"orientation\":\"h\",\"x\":[0.030884752730595957,0.030884752730595957,0.030884752730595957,0.030884752730595957,0.030884752730595957,0.03943511553360034,0.040648125346334746,0.040648125346334746,0.054661726588027336,0.05618312198548984],\"y\":[\"noshows charge  \",\"person noshows  \",\"november seat  \",\"available basic  \",\"taylor cost  \",\"stephanie taylor  \",\"esource present  \",\"custom clip  \",\"jones interactive  \",\"clinic november  \"],\"type\":\"bar\",\"xaxis\":\"x6\",\"yaxis\":\"y6\"},{\"marker\":{\"color\":\"#F0E442\"},\"orientation\":\"h\",\"x\":[0.028903021981498026,0.028903021981498026,0.028903021981498026,0.028903021981498026,0.028903021981498026,0.028903021981498026,0.028903021981498026,0.02908620534930114,0.02908620534930114,0.03062146966068183],\"y\":[\"seem pick  \",\"far stay  \",\"future beta  \",\"year seem  \",\"crowd far  \",\"tent big  \",\"stay connect  \",\"connect consider  \",\"reunion year  \",\"beta tent  \"],\"type\":\"bar\",\"xaxis\":\"x7\",\"yaxis\":\"y7\"},{\"marker\":{\"color\":\"#D55E00\"},\"orientation\":\"h\",\"x\":[0.06094824105870212,0.06094824105870212,0.06094824105870212,0.06671462545807028,0.06684793828386974,0.0684264095597401,0.06981480522472913,0.07644267837866561,0.07709564481632206,0.07709564481632206],\"y\":[\"variance find  \",\"prefer final  \",\"find table  \",\"scid ectrt  \",\"ectrt mkttype  \",\"transdate tiepoint  \",\"engytype wheel  \",\"final scid  \",\"mkttype transdate  \",\"transtype final  \"],\"type\":\"bar\",\"xaxis\":\"x8\",\"yaxis\":\"y8\"},{\"marker\":{\"color\":\"#0072B2\"},\"orientation\":\"h\",\"x\":[0.009429576247976062,0.009429576247976062,0.009429576247976062,0.009429576247976062,0.009429576247976062,0.010674469127166748,0.010898073155042449,0.01207545106588679,0.013585177628788048,0.015366711457393264],\"y\":[\"cancellation charge  \",\"john cogan  \",\"option seller  \",\"annuity miss  \",\"miss power  \",\"may june  \",\"demand charge  \",\"balance due  \",\"payment due  \",\"option premium  \"],\"type\":\"bar\",\"xaxis\":\"x9\",\"yaxis\":\"y9\"},{\"marker\":{\"color\":\"#CC79A7\"},\"orientation\":\"h\",\"x\":[0.02062158573031215,0.023053533545398974,0.025310371015532636,0.026858411427590424,0.028137383400332824,0.033025254457594175,0.033852523316271164,0.04843633944821026,0.04843633944821026,0.04843633944821026],\"y\":[\"nyiso web  \",\"desk write  \",\"call customer  \",\"web server  \",\"customer relation  \",\"list market  \",\"market participant  \",\"nyisotechexchange discussion  \",\"discussion list  \",\"write nyisotechexchange  \"],\"type\":\"bar\",\"xaxis\":\"x10\",\"yaxis\":\"y10\"}],                        {\"template\":{\"data\":{\"barpolar\":[{\"marker\":{\"line\":{\"color\":\"white\",\"width\":0.5},\"pattern\":{\"fillmode\":\"overlay\",\"size\":10,\"solidity\":0.2}},\"type\":\"barpolar\"}],\"bar\":[{\"error_x\":{\"color\":\"#2a3f5f\"},\"error_y\":{\"color\":\"#2a3f5f\"},\"marker\":{\"line\":{\"color\":\"white\",\"width\":0.5},\"pattern\":{\"fillmode\":\"overlay\",\"size\":10,\"solidity\":0.2}},\"type\":\"bar\"}],\"carpet\":[{\"aaxis\":{\"endlinecolor\":\"#2a3f5f\",\"gridcolor\":\"#C8D4E3\",\"linecolor\":\"#C8D4E3\",\"minorgridcolor\":\"#C8D4E3\",\"startlinecolor\":\"#2a3f5f\"},\"baxis\":{\"endlinecolor\":\"#2a3f5f\",\"gridcolor\":\"#C8D4E3\",\"linecolor\":\"#C8D4E3\",\"minorgridcolor\":\"#C8D4E3\",\"startlinecolor\":\"#2a3f5f\"},\"type\":\"carpet\"}],\"choropleth\":[{\"colorbar\":{\"outlinewidth\":0,\"ticks\":\"\"},\"type\":\"choropleth\"}],\"contourcarpet\":[{\"colorbar\":{\"outlinewidth\":0,\"ticks\":\"\"},\"type\":\"contourcarpet\"}],\"contour\":[{\"colorbar\":{\"outlinewidth\":0,\"ticks\":\"\"},\"colorscale\":[[0.0,\"#0d0887\"],[0.1111111111111111,\"#46039f\"],[0.2222222222222222,\"#7201a8\"],[0.3333333333333333,\"#9c179e\"],[0.4444444444444444,\"#bd3786\"],[0.5555555555555556,\"#d8576b\"],[0.6666666666666666,\"#ed7953\"],[0.7777777777777778,\"#fb9f3a\"],[0.8888888888888888,\"#fdca26\"],[1.0,\"#f0f921\"]],\"type\":\"contour\"}],\"heatmapgl\":[{\"colorbar\":{\"outlinewidth\":0,\"ticks\":\"\"},\"colorscale\":[[0.0,\"#0d0887\"],[0.1111111111111111,\"#46039f\"],[0.2222222222222222,\"#7201a8\"],[0.3333333333333333,\"#9c179e\"],[0.4444444444444444,\"#bd3786\"],[0.5555555555555556,\"#d8576b\"],[0.6666666666666666,\"#ed7953\"],[0.7777777777777778,\"#fb9f3a\"],[0.8888888888888888,\"#fdca26\"],[1.0,\"#f0f921\"]],\"type\":\"heatmapgl\"}],\"heatmap\":[{\"colorbar\":{\"outlinewidth\":0,\"ticks\":\"\"},\"colorscale\":[[0.0,\"#0d0887\"],[0.1111111111111111,\"#46039f\"],[0.2222222222222222,\"#7201a8\"],[0.3333333333333333,\"#9c179e\"],[0.4444444444444444,\"#bd3786\"],[0.5555555555555556,\"#d8576b\"],[0.6666666666666666,\"#ed7953\"],[0.7777777777777778,\"#fb9f3a\"],[0.8888888888888888,\"#fdca26\"],[1.0,\"#f0f921\"]],\"type\":\"heatmap\"}],\"histogram2dcontour\":[{\"colorbar\":{\"outlinewidth\":0,\"ticks\":\"\"},\"colorscale\":[[0.0,\"#0d0887\"],[0.1111111111111111,\"#46039f\"],[0.2222222222222222,\"#7201a8\"],[0.3333333333333333,\"#9c179e\"],[0.4444444444444444,\"#bd3786\"],[0.5555555555555556,\"#d8576b\"],[0.6666666666666666,\"#ed7953\"],[0.7777777777777778,\"#fb9f3a\"],[0.8888888888888888,\"#fdca26\"],[1.0,\"#f0f921\"]],\"type\":\"histogram2dcontour\"}],\"histogram2d\":[{\"colorbar\":{\"outlinewidth\":0,\"ticks\":\"\"},\"colorscale\":[[0.0,\"#0d0887\"],[0.1111111111111111,\"#46039f\"],[0.2222222222222222,\"#7201a8\"],[0.3333333333333333,\"#9c179e\"],[0.4444444444444444,\"#bd3786\"],[0.5555555555555556,\"#d8576b\"],[0.6666666666666666,\"#ed7953\"],[0.7777777777777778,\"#fb9f3a\"],[0.8888888888888888,\"#fdca26\"],[1.0,\"#f0f921\"]],\"type\":\"histogram2d\"}],\"histogram\":[{\"marker\":{\"pattern\":{\"fillmode\":\"overlay\",\"size\":10,\"solidity\":0.2}},\"type\":\"histogram\"}],\"mesh3d\":[{\"colorbar\":{\"outlinewidth\":0,\"ticks\":\"\"},\"type\":\"mesh3d\"}],\"parcoords\":[{\"line\":{\"colorbar\":{\"outlinewidth\":0,\"ticks\":\"\"}},\"type\":\"parcoords\"}],\"pie\":[{\"automargin\":true,\"type\":\"pie\"}],\"scatter3d\":[{\"line\":{\"colorbar\":{\"outlinewidth\":0,\"ticks\":\"\"}},\"marker\":{\"colorbar\":{\"outlinewidth\":0,\"ticks\":\"\"}},\"type\":\"scatter3d\"}],\"scattercarpet\":[{\"marker\":{\"colorbar\":{\"outlinewidth\":0,\"ticks\":\"\"}},\"type\":\"scattercarpet\"}],\"scattergeo\":[{\"marker\":{\"colorbar\":{\"outlinewidth\":0,\"ticks\":\"\"}},\"type\":\"scattergeo\"}],\"scattergl\":[{\"marker\":{\"colorbar\":{\"outlinewidth\":0,\"ticks\":\"\"}},\"type\":\"scattergl\"}],\"scattermapbox\":[{\"marker\":{\"colorbar\":{\"outlinewidth\":0,\"ticks\":\"\"}},\"type\":\"scattermapbox\"}],\"scatterpolargl\":[{\"marker\":{\"colorbar\":{\"outlinewidth\":0,\"ticks\":\"\"}},\"type\":\"scatterpolargl\"}],\"scatterpolar\":[{\"marker\":{\"colorbar\":{\"outlinewidth\":0,\"ticks\":\"\"}},\"type\":\"scatterpolar\"}],\"scatter\":[{\"marker\":{\"colorbar\":{\"outlinewidth\":0,\"ticks\":\"\"}},\"type\":\"scatter\"}],\"scatterternary\":[{\"marker\":{\"colorbar\":{\"outlinewidth\":0,\"ticks\":\"\"}},\"type\":\"scatterternary\"}],\"surface\":[{\"colorbar\":{\"outlinewidth\":0,\"ticks\":\"\"},\"colorscale\":[[0.0,\"#0d0887\"],[0.1111111111111111,\"#46039f\"],[0.2222222222222222,\"#7201a8\"],[0.3333333333333333,\"#9c179e\"],[0.4444444444444444,\"#bd3786\"],[0.5555555555555556,\"#d8576b\"],[0.6666666666666666,\"#ed7953\"],[0.7777777777777778,\"#fb9f3a\"],[0.8888888888888888,\"#fdca26\"],[1.0,\"#f0f921\"]],\"type\":\"surface\"}],\"table\":[{\"cells\":{\"fill\":{\"color\":\"#EBF0F8\"},\"line\":{\"color\":\"white\"}},\"header\":{\"fill\":{\"color\":\"#C8D4E3\"},\"line\":{\"color\":\"white\"}},\"type\":\"table\"}]},\"layout\":{\"annotationdefaults\":{\"arrowcolor\":\"#2a3f5f\",\"arrowhead\":0,\"arrowwidth\":1},\"autotypenumbers\":\"strict\",\"coloraxis\":{\"colorbar\":{\"outlinewidth\":0,\"ticks\":\"\"}},\"colorscale\":{\"diverging\":[[0,\"#8e0152\"],[0.1,\"#c51b7d\"],[0.2,\"#de77ae\"],[0.3,\"#f1b6da\"],[0.4,\"#fde0ef\"],[0.5,\"#f7f7f7\"],[0.6,\"#e6f5d0\"],[0.7,\"#b8e186\"],[0.8,\"#7fbc41\"],[0.9,\"#4d9221\"],[1,\"#276419\"]],\"sequential\":[[0.0,\"#0d0887\"],[0.1111111111111111,\"#46039f\"],[0.2222222222222222,\"#7201a8\"],[0.3333333333333333,\"#9c179e\"],[0.4444444444444444,\"#bd3786\"],[0.5555555555555556,\"#d8576b\"],[0.6666666666666666,\"#ed7953\"],[0.7777777777777778,\"#fb9f3a\"],[0.8888888888888888,\"#fdca26\"],[1.0,\"#f0f921\"]],\"sequentialminus\":[[0.0,\"#0d0887\"],[0.1111111111111111,\"#46039f\"],[0.2222222222222222,\"#7201a8\"],[0.3333333333333333,\"#9c179e\"],[0.4444444444444444,\"#bd3786\"],[0.5555555555555556,\"#d8576b\"],[0.6666666666666666,\"#ed7953\"],[0.7777777777777778,\"#fb9f3a\"],[0.8888888888888888,\"#fdca26\"],[1.0,\"#f0f921\"]]},\"colorway\":[\"#636efa\",\"#EF553B\",\"#00cc96\",\"#ab63fa\",\"#FFA15A\",\"#19d3f3\",\"#FF6692\",\"#B6E880\",\"#FF97FF\",\"#FECB52\"],\"font\":{\"color\":\"#2a3f5f\"},\"geo\":{\"bgcolor\":\"white\",\"lakecolor\":\"white\",\"landcolor\":\"white\",\"showlakes\":true,\"showland\":true,\"subunitcolor\":\"#C8D4E3\"},\"hoverlabel\":{\"align\":\"left\"},\"hovermode\":\"closest\",\"mapbox\":{\"style\":\"light\"},\"paper_bgcolor\":\"white\",\"plot_bgcolor\":\"white\",\"polar\":{\"angularaxis\":{\"gridcolor\":\"#EBF0F8\",\"linecolor\":\"#EBF0F8\",\"ticks\":\"\"},\"bgcolor\":\"white\",\"radialaxis\":{\"gridcolor\":\"#EBF0F8\",\"linecolor\":\"#EBF0F8\",\"ticks\":\"\"}},\"scene\":{\"xaxis\":{\"backgroundcolor\":\"white\",\"gridcolor\":\"#DFE8F3\",\"gridwidth\":2,\"linecolor\":\"#EBF0F8\",\"showbackground\":true,\"ticks\":\"\",\"zerolinecolor\":\"#EBF0F8\"},\"yaxis\":{\"backgroundcolor\":\"white\",\"gridcolor\":\"#DFE8F3\",\"gridwidth\":2,\"linecolor\":\"#EBF0F8\",\"showbackground\":true,\"ticks\":\"\",\"zerolinecolor\":\"#EBF0F8\"},\"zaxis\":{\"backgroundcolor\":\"white\",\"gridcolor\":\"#DFE8F3\",\"gridwidth\":2,\"linecolor\":\"#EBF0F8\",\"showbackground\":true,\"ticks\":\"\",\"zerolinecolor\":\"#EBF0F8\"}},\"shapedefaults\":{\"line\":{\"color\":\"#2a3f5f\"}},\"ternary\":{\"aaxis\":{\"gridcolor\":\"#DFE8F3\",\"linecolor\":\"#A2B1C6\",\"ticks\":\"\"},\"baxis\":{\"gridcolor\":\"#DFE8F3\",\"linecolor\":\"#A2B1C6\",\"ticks\":\"\"},\"bgcolor\":\"white\",\"caxis\":{\"gridcolor\":\"#DFE8F3\",\"linecolor\":\"#A2B1C6\",\"ticks\":\"\"}},\"title\":{\"x\":0.05},\"xaxis\":{\"automargin\":true,\"gridcolor\":\"#EBF0F8\",\"linecolor\":\"#EBF0F8\",\"ticks\":\"\",\"title\":{\"standoff\":15},\"zerolinecolor\":\"#EBF0F8\",\"zerolinewidth\":2},\"yaxis\":{\"automargin\":true,\"gridcolor\":\"#EBF0F8\",\"linecolor\":\"#EBF0F8\",\"ticks\":\"\",\"title\":{\"standoff\":15},\"zerolinecolor\":\"#EBF0F8\",\"zerolinewidth\":2}}},\"xaxis\":{\"anchor\":\"y\",\"domain\":[0.0,0.175],\"showgrid\":true},\"yaxis\":{\"anchor\":\"x\",\"domain\":[0.7555555555555555,1.0],\"showgrid\":true},\"xaxis2\":{\"anchor\":\"y2\",\"domain\":[0.275,0.45],\"showgrid\":true},\"yaxis2\":{\"anchor\":\"x2\",\"domain\":[0.7555555555555555,1.0],\"showgrid\":true},\"xaxis3\":{\"anchor\":\"y3\",\"domain\":[0.55,0.7250000000000001],\"showgrid\":true},\"yaxis3\":{\"anchor\":\"x3\",\"domain\":[0.7555555555555555,1.0],\"showgrid\":true},\"xaxis4\":{\"anchor\":\"y4\",\"domain\":[0.825,1.0],\"showgrid\":true},\"yaxis4\":{\"anchor\":\"x4\",\"domain\":[0.7555555555555555,1.0],\"showgrid\":true},\"xaxis5\":{\"anchor\":\"y5\",\"domain\":[0.0,0.175],\"showgrid\":true},\"yaxis5\":{\"anchor\":\"x5\",\"domain\":[0.37777777777777777,0.6222222222222222],\"showgrid\":true},\"xaxis6\":{\"anchor\":\"y6\",\"domain\":[0.275,0.45],\"showgrid\":true},\"yaxis6\":{\"anchor\":\"x6\",\"domain\":[0.37777777777777777,0.6222222222222222],\"showgrid\":true},\"xaxis7\":{\"anchor\":\"y7\",\"domain\":[0.55,0.7250000000000001],\"showgrid\":true},\"yaxis7\":{\"anchor\":\"x7\",\"domain\":[0.37777777777777777,0.6222222222222222],\"showgrid\":true},\"xaxis8\":{\"anchor\":\"y8\",\"domain\":[0.825,1.0],\"showgrid\":true},\"yaxis8\":{\"anchor\":\"x8\",\"domain\":[0.37777777777777777,0.6222222222222222],\"showgrid\":true},\"xaxis9\":{\"anchor\":\"y9\",\"domain\":[0.0,0.175],\"showgrid\":true},\"yaxis9\":{\"anchor\":\"x9\",\"domain\":[0.0,0.24444444444444446],\"showgrid\":true},\"xaxis10\":{\"anchor\":\"y10\",\"domain\":[0.275,0.45],\"showgrid\":true},\"yaxis10\":{\"anchor\":\"x10\",\"domain\":[0.0,0.24444444444444446],\"showgrid\":true},\"xaxis11\":{\"anchor\":\"y11\",\"domain\":[0.55,0.7250000000000001],\"showgrid\":true},\"yaxis11\":{\"anchor\":\"x11\",\"domain\":[0.0,0.24444444444444446],\"showgrid\":true},\"xaxis12\":{\"anchor\":\"y12\",\"domain\":[0.825,1.0],\"showgrid\":true},\"yaxis12\":{\"anchor\":\"x12\",\"domain\":[0.0,0.24444444444444446],\"showgrid\":true},\"annotations\":[{\"font\":{\"size\":16},\"showarrow\":false,\"text\":\"Topic 0\",\"x\":0.0875,\"xanchor\":\"center\",\"xref\":\"paper\",\"y\":1.0,\"yanchor\":\"bottom\",\"yref\":\"paper\"},{\"font\":{\"size\":16},\"showarrow\":false,\"text\":\"Topic 1\",\"x\":0.36250000000000004,\"xanchor\":\"center\",\"xref\":\"paper\",\"y\":1.0,\"yanchor\":\"bottom\",\"yref\":\"paper\"},{\"font\":{\"size\":16},\"showarrow\":false,\"text\":\"Topic 2\",\"x\":0.6375000000000001,\"xanchor\":\"center\",\"xref\":\"paper\",\"y\":1.0,\"yanchor\":\"bottom\",\"yref\":\"paper\"},{\"font\":{\"size\":16},\"showarrow\":false,\"text\":\"Topic 3\",\"x\":0.9125,\"xanchor\":\"center\",\"xref\":\"paper\",\"y\":1.0,\"yanchor\":\"bottom\",\"yref\":\"paper\"},{\"font\":{\"size\":16},\"showarrow\":false,\"text\":\"Topic 4\",\"x\":0.0875,\"xanchor\":\"center\",\"xref\":\"paper\",\"y\":0.6222222222222222,\"yanchor\":\"bottom\",\"yref\":\"paper\"},{\"font\":{\"size\":16},\"showarrow\":false,\"text\":\"Topic 5\",\"x\":0.36250000000000004,\"xanchor\":\"center\",\"xref\":\"paper\",\"y\":0.6222222222222222,\"yanchor\":\"bottom\",\"yref\":\"paper\"},{\"font\":{\"size\":16},\"showarrow\":false,\"text\":\"Topic 6\",\"x\":0.6375000000000001,\"xanchor\":\"center\",\"xref\":\"paper\",\"y\":0.6222222222222222,\"yanchor\":\"bottom\",\"yref\":\"paper\"},{\"font\":{\"size\":16},\"showarrow\":false,\"text\":\"Topic 7\",\"x\":0.9125,\"xanchor\":\"center\",\"xref\":\"paper\",\"y\":0.6222222222222222,\"yanchor\":\"bottom\",\"yref\":\"paper\"},{\"font\":{\"size\":16},\"showarrow\":false,\"text\":\"Topic 8\",\"x\":0.0875,\"xanchor\":\"center\",\"xref\":\"paper\",\"y\":0.24444444444444446,\"yanchor\":\"bottom\",\"yref\":\"paper\"},{\"font\":{\"size\":16},\"showarrow\":false,\"text\":\"Topic 9\",\"x\":0.36250000000000004,\"xanchor\":\"center\",\"xref\":\"paper\",\"y\":0.24444444444444446,\"yanchor\":\"bottom\",\"yref\":\"paper\"}],\"title\":{\"font\":{\"size\":22,\"color\":\"Black\"},\"text\":\"<b>Topic Word Scores\",\"x\":0.5,\"xanchor\":\"center\",\"yanchor\":\"top\"},\"hoverlabel\":{\"font\":{\"size\":16,\"family\":\"Rockwell\"},\"bgcolor\":\"white\"},\"showlegend\":false,\"width\":1200,\"height\":900},                        {\"responsive\": true}                    ).then(function(){\n",
              "                            \n",
              "var gd = document.getElementById('2cc8d679-1ca2-4ff5-aada-51ec3ebcc1a4');\n",
              "var x = new MutationObserver(function (mutations, observer) {{\n",
              "        var display = window.getComputedStyle(gd).display;\n",
              "        if (!display || display === 'none') {{\n",
              "            console.log([gd, 'removed!']);\n",
              "            Plotly.purge(gd);\n",
              "            observer.disconnect();\n",
              "        }}\n",
              "}});\n",
              "\n",
              "// Listen for the removal of the full notebook cells\n",
              "var notebookContainer = gd.closest('#notebook-container');\n",
              "if (notebookContainer) {{\n",
              "    x.observe(notebookContainer, {childList: true});\n",
              "}}\n",
              "\n",
              "// Listen for the clearing of the current output cell\n",
              "var outputEl = gd.closest('.output');\n",
              "if (outputEl) {{\n",
              "    x.observe(outputEl, {childList: true});\n",
              "}}\n",
              "\n",
              "                        })                };                            </script>        </div>\n",
              "</body>\n",
              "</html>"
            ]
          },
          "metadata": {}
        }
      ]
    },
    {
      "cell_type": "code",
      "source": [
        "topic_model.visualize_heatmap(top_n_topics=10, width=800, height=800)"
      ],
      "metadata": {
        "colab": {
          "base_uri": "https://localhost:8080/",
          "height": 817
        },
        "id": "2K4dYRKIyn-1",
        "outputId": "090471e0-6a56-486b-fbe2-f8dcbb3b9b46"
      },
      "execution_count": 42,
      "outputs": [
        {
          "output_type": "display_data",
          "data": {
            "text/html": [
              "<html>\n",
              "<head><meta charset=\"utf-8\" /></head>\n",
              "<body>\n",
              "    <div>            <script src=\"https://cdnjs.cloudflare.com/ajax/libs/mathjax/2.7.5/MathJax.js?config=TeX-AMS-MML_SVG\"></script><script type=\"text/javascript\">if (window.MathJax) {MathJax.Hub.Config({SVG: {font: \"STIX-Web\"}});}</script>                <script type=\"text/javascript\">window.PlotlyConfig = {MathJaxConfig: 'local'};</script>\n",
              "        <script src=\"https://cdn.plot.ly/plotly-2.8.3.min.js\"></script>                <div id=\"4cdee493-970c-48fc-bac5-9cd64bcc93dd\" class=\"plotly-graph-div\" style=\"height:800px; width:800px;\"></div>            <script type=\"text/javascript\">                                    window.PLOTLYENV=window.PLOTLYENV || {};                                    if (document.getElementById(\"4cdee493-970c-48fc-bac5-9cd64bcc93dd\")) {                    Plotly.newPlot(                        \"4cdee493-970c-48fc-bac5-9cd64bcc93dd\",                        [{\"coloraxis\":\"coloraxis\",\"name\":\"0\",\"x\":[\"0_continue start_detect log...\",\"1_god bless_work hard_want ...\",\"2_operational risk_edt oct_...\",\"3_another one_need anything...\",\"4_oneway tofrom_hotel resor...\",\"5_clinic november_jones int...\",\"6_beta tent_reunion year_co...\",\"7_transtype final_mkttype t...\",\"8_option premium_payment du...\",\"9_write nyisotechexchange_d...\"],\"y\":[\"0_continue start_detect log...\",\"1_god bless_work hard_want ...\",\"2_operational risk_edt oct_...\",\"3_another one_need anything...\",\"4_oneway tofrom_hotel resor...\",\"5_clinic november_jones int...\",\"6_beta tent_reunion year_co...\",\"7_transtype final_mkttype t...\",\"8_option premium_payment du...\",\"9_write nyisotechexchange_d...\"],\"z\":[[1.0000000000023248,0.016473408537137524,0.06065443437344613,0.05941704366721337,0.016557898730657807,0.04405544282069848,0.010970801252977563,0.02435488215845591,0.011795977611797152,0.04010337407937948],[0.016473408537137524,0.9999999999999998,0.0,0.0,0.0,0.0,0.0,0.0,0.16143959710506245,0.0],[0.06065443437344613,0.0,1.0000000000000357,0.01421725430199425,0.012505397894085985,0.0046609554111244084,0.00037731203039258524,0.010250232704429721,2.358568936281542e-05,0.006471445593166362],[0.05941704366721337,0.0,0.01421725430199425,1.0000000000000646,0.0058596496365494076,0.003088437256522735,0.002276043966907926,0.00327979435444055,0.00010326688519041477,0.006103687875513409],[0.016557898730657807,0.0,0.012505397894085985,0.0058596496365494076,1.0000000000000024,0.00013672539648024558,0.0,0.004376419443551159,7.729533782552073e-05,0.007887440568957134],[0.04405544282069848,0.0,0.0046609554111244084,0.003088437256522735,0.00013672539648024558,1.0000000000001774,0.004993044748684689,0.002957959472455209,0.0,0.0027313771739279767],[0.010970801252977563,0.0,0.00037731203039258524,0.002276043966907926,0.0,0.004993044748684689,1.0000000000000058,2.2221167500605728e-05,0.0,2.054798962344041e-05],[0.02435488215845591,0.0,0.010250232704429721,0.00327979435444055,0.004376419443551159,0.002957959472455209,2.2221167500605728e-05,1.000000000000036,0.0,0.0011360936187546772],[0.011795977611797152,0.16143959710506245,2.358568936281542e-05,0.00010326688519041477,7.729533782552073e-05,0.0,0.0,0.0,0.999999999999997,4.728546540177496e-05],[0.04010337407937948,0.0,0.006471445593166362,0.006103687875513409,0.007887440568957134,0.0027313771739279767,2.054798962344041e-05,0.0011360936187546772,4.728546540177496e-05,1.0000000000000033]],\"type\":\"heatmap\",\"xaxis\":\"x\",\"yaxis\":\"y\",\"hovertemplate\":\"x: %{x}<br>y: %{y}<br>Similarity Score: %{z}<extra></extra>\"}],                        {\"template\":{\"data\":{\"bar\":[{\"error_x\":{\"color\":\"#2a3f5f\"},\"error_y\":{\"color\":\"#2a3f5f\"},\"marker\":{\"line\":{\"color\":\"#E5ECF6\",\"width\":0.5},\"pattern\":{\"fillmode\":\"overlay\",\"size\":10,\"solidity\":0.2}},\"type\":\"bar\"}],\"barpolar\":[{\"marker\":{\"line\":{\"color\":\"#E5ECF6\",\"width\":0.5},\"pattern\":{\"fillmode\":\"overlay\",\"size\":10,\"solidity\":0.2}},\"type\":\"barpolar\"}],\"carpet\":[{\"aaxis\":{\"endlinecolor\":\"#2a3f5f\",\"gridcolor\":\"white\",\"linecolor\":\"white\",\"minorgridcolor\":\"white\",\"startlinecolor\":\"#2a3f5f\"},\"baxis\":{\"endlinecolor\":\"#2a3f5f\",\"gridcolor\":\"white\",\"linecolor\":\"white\",\"minorgridcolor\":\"white\",\"startlinecolor\":\"#2a3f5f\"},\"type\":\"carpet\"}],\"choropleth\":[{\"colorbar\":{\"outlinewidth\":0,\"ticks\":\"\"},\"type\":\"choropleth\"}],\"contour\":[{\"colorbar\":{\"outlinewidth\":0,\"ticks\":\"\"},\"colorscale\":[[0.0,\"#0d0887\"],[0.1111111111111111,\"#46039f\"],[0.2222222222222222,\"#7201a8\"],[0.3333333333333333,\"#9c179e\"],[0.4444444444444444,\"#bd3786\"],[0.5555555555555556,\"#d8576b\"],[0.6666666666666666,\"#ed7953\"],[0.7777777777777778,\"#fb9f3a\"],[0.8888888888888888,\"#fdca26\"],[1.0,\"#f0f921\"]],\"type\":\"contour\"}],\"contourcarpet\":[{\"colorbar\":{\"outlinewidth\":0,\"ticks\":\"\"},\"type\":\"contourcarpet\"}],\"heatmap\":[{\"colorbar\":{\"outlinewidth\":0,\"ticks\":\"\"},\"colorscale\":[[0.0,\"#0d0887\"],[0.1111111111111111,\"#46039f\"],[0.2222222222222222,\"#7201a8\"],[0.3333333333333333,\"#9c179e\"],[0.4444444444444444,\"#bd3786\"],[0.5555555555555556,\"#d8576b\"],[0.6666666666666666,\"#ed7953\"],[0.7777777777777778,\"#fb9f3a\"],[0.8888888888888888,\"#fdca26\"],[1.0,\"#f0f921\"]],\"type\":\"heatmap\"}],\"heatmapgl\":[{\"colorbar\":{\"outlinewidth\":0,\"ticks\":\"\"},\"colorscale\":[[0.0,\"#0d0887\"],[0.1111111111111111,\"#46039f\"],[0.2222222222222222,\"#7201a8\"],[0.3333333333333333,\"#9c179e\"],[0.4444444444444444,\"#bd3786\"],[0.5555555555555556,\"#d8576b\"],[0.6666666666666666,\"#ed7953\"],[0.7777777777777778,\"#fb9f3a\"],[0.8888888888888888,\"#fdca26\"],[1.0,\"#f0f921\"]],\"type\":\"heatmapgl\"}],\"histogram\":[{\"marker\":{\"pattern\":{\"fillmode\":\"overlay\",\"size\":10,\"solidity\":0.2}},\"type\":\"histogram\"}],\"histogram2d\":[{\"colorbar\":{\"outlinewidth\":0,\"ticks\":\"\"},\"colorscale\":[[0.0,\"#0d0887\"],[0.1111111111111111,\"#46039f\"],[0.2222222222222222,\"#7201a8\"],[0.3333333333333333,\"#9c179e\"],[0.4444444444444444,\"#bd3786\"],[0.5555555555555556,\"#d8576b\"],[0.6666666666666666,\"#ed7953\"],[0.7777777777777778,\"#fb9f3a\"],[0.8888888888888888,\"#fdca26\"],[1.0,\"#f0f921\"]],\"type\":\"histogram2d\"}],\"histogram2dcontour\":[{\"colorbar\":{\"outlinewidth\":0,\"ticks\":\"\"},\"colorscale\":[[0.0,\"#0d0887\"],[0.1111111111111111,\"#46039f\"],[0.2222222222222222,\"#7201a8\"],[0.3333333333333333,\"#9c179e\"],[0.4444444444444444,\"#bd3786\"],[0.5555555555555556,\"#d8576b\"],[0.6666666666666666,\"#ed7953\"],[0.7777777777777778,\"#fb9f3a\"],[0.8888888888888888,\"#fdca26\"],[1.0,\"#f0f921\"]],\"type\":\"histogram2dcontour\"}],\"mesh3d\":[{\"colorbar\":{\"outlinewidth\":0,\"ticks\":\"\"},\"type\":\"mesh3d\"}],\"parcoords\":[{\"line\":{\"colorbar\":{\"outlinewidth\":0,\"ticks\":\"\"}},\"type\":\"parcoords\"}],\"pie\":[{\"automargin\":true,\"type\":\"pie\"}],\"scatter\":[{\"marker\":{\"colorbar\":{\"outlinewidth\":0,\"ticks\":\"\"}},\"type\":\"scatter\"}],\"scatter3d\":[{\"line\":{\"colorbar\":{\"outlinewidth\":0,\"ticks\":\"\"}},\"marker\":{\"colorbar\":{\"outlinewidth\":0,\"ticks\":\"\"}},\"type\":\"scatter3d\"}],\"scattercarpet\":[{\"marker\":{\"colorbar\":{\"outlinewidth\":0,\"ticks\":\"\"}},\"type\":\"scattercarpet\"}],\"scattergeo\":[{\"marker\":{\"colorbar\":{\"outlinewidth\":0,\"ticks\":\"\"}},\"type\":\"scattergeo\"}],\"scattergl\":[{\"marker\":{\"colorbar\":{\"outlinewidth\":0,\"ticks\":\"\"}},\"type\":\"scattergl\"}],\"scattermapbox\":[{\"marker\":{\"colorbar\":{\"outlinewidth\":0,\"ticks\":\"\"}},\"type\":\"scattermapbox\"}],\"scatterpolar\":[{\"marker\":{\"colorbar\":{\"outlinewidth\":0,\"ticks\":\"\"}},\"type\":\"scatterpolar\"}],\"scatterpolargl\":[{\"marker\":{\"colorbar\":{\"outlinewidth\":0,\"ticks\":\"\"}},\"type\":\"scatterpolargl\"}],\"scatterternary\":[{\"marker\":{\"colorbar\":{\"outlinewidth\":0,\"ticks\":\"\"}},\"type\":\"scatterternary\"}],\"surface\":[{\"colorbar\":{\"outlinewidth\":0,\"ticks\":\"\"},\"colorscale\":[[0.0,\"#0d0887\"],[0.1111111111111111,\"#46039f\"],[0.2222222222222222,\"#7201a8\"],[0.3333333333333333,\"#9c179e\"],[0.4444444444444444,\"#bd3786\"],[0.5555555555555556,\"#d8576b\"],[0.6666666666666666,\"#ed7953\"],[0.7777777777777778,\"#fb9f3a\"],[0.8888888888888888,\"#fdca26\"],[1.0,\"#f0f921\"]],\"type\":\"surface\"}],\"table\":[{\"cells\":{\"fill\":{\"color\":\"#EBF0F8\"},\"line\":{\"color\":\"white\"}},\"header\":{\"fill\":{\"color\":\"#C8D4E3\"},\"line\":{\"color\":\"white\"}},\"type\":\"table\"}]},\"layout\":{\"annotationdefaults\":{\"arrowcolor\":\"#2a3f5f\",\"arrowhead\":0,\"arrowwidth\":1},\"autotypenumbers\":\"strict\",\"coloraxis\":{\"colorbar\":{\"outlinewidth\":0,\"ticks\":\"\"}},\"colorscale\":{\"diverging\":[[0,\"#8e0152\"],[0.1,\"#c51b7d\"],[0.2,\"#de77ae\"],[0.3,\"#f1b6da\"],[0.4,\"#fde0ef\"],[0.5,\"#f7f7f7\"],[0.6,\"#e6f5d0\"],[0.7,\"#b8e186\"],[0.8,\"#7fbc41\"],[0.9,\"#4d9221\"],[1,\"#276419\"]],\"sequential\":[[0.0,\"#0d0887\"],[0.1111111111111111,\"#46039f\"],[0.2222222222222222,\"#7201a8\"],[0.3333333333333333,\"#9c179e\"],[0.4444444444444444,\"#bd3786\"],[0.5555555555555556,\"#d8576b\"],[0.6666666666666666,\"#ed7953\"],[0.7777777777777778,\"#fb9f3a\"],[0.8888888888888888,\"#fdca26\"],[1.0,\"#f0f921\"]],\"sequentialminus\":[[0.0,\"#0d0887\"],[0.1111111111111111,\"#46039f\"],[0.2222222222222222,\"#7201a8\"],[0.3333333333333333,\"#9c179e\"],[0.4444444444444444,\"#bd3786\"],[0.5555555555555556,\"#d8576b\"],[0.6666666666666666,\"#ed7953\"],[0.7777777777777778,\"#fb9f3a\"],[0.8888888888888888,\"#fdca26\"],[1.0,\"#f0f921\"]]},\"colorway\":[\"#636efa\",\"#EF553B\",\"#00cc96\",\"#ab63fa\",\"#FFA15A\",\"#19d3f3\",\"#FF6692\",\"#B6E880\",\"#FF97FF\",\"#FECB52\"],\"font\":{\"color\":\"#2a3f5f\"},\"geo\":{\"bgcolor\":\"white\",\"lakecolor\":\"white\",\"landcolor\":\"#E5ECF6\",\"showlakes\":true,\"showland\":true,\"subunitcolor\":\"white\"},\"hoverlabel\":{\"align\":\"left\"},\"hovermode\":\"closest\",\"mapbox\":{\"style\":\"light\"},\"paper_bgcolor\":\"white\",\"plot_bgcolor\":\"#E5ECF6\",\"polar\":{\"angularaxis\":{\"gridcolor\":\"white\",\"linecolor\":\"white\",\"ticks\":\"\"},\"bgcolor\":\"#E5ECF6\",\"radialaxis\":{\"gridcolor\":\"white\",\"linecolor\":\"white\",\"ticks\":\"\"}},\"scene\":{\"xaxis\":{\"backgroundcolor\":\"#E5ECF6\",\"gridcolor\":\"white\",\"gridwidth\":2,\"linecolor\":\"white\",\"showbackground\":true,\"ticks\":\"\",\"zerolinecolor\":\"white\"},\"yaxis\":{\"backgroundcolor\":\"#E5ECF6\",\"gridcolor\":\"white\",\"gridwidth\":2,\"linecolor\":\"white\",\"showbackground\":true,\"ticks\":\"\",\"zerolinecolor\":\"white\"},\"zaxis\":{\"backgroundcolor\":\"#E5ECF6\",\"gridcolor\":\"white\",\"gridwidth\":2,\"linecolor\":\"white\",\"showbackground\":true,\"ticks\":\"\",\"zerolinecolor\":\"white\"}},\"shapedefaults\":{\"line\":{\"color\":\"#2a3f5f\"}},\"ternary\":{\"aaxis\":{\"gridcolor\":\"white\",\"linecolor\":\"white\",\"ticks\":\"\"},\"baxis\":{\"gridcolor\":\"white\",\"linecolor\":\"white\",\"ticks\":\"\"},\"bgcolor\":\"#E5ECF6\",\"caxis\":{\"gridcolor\":\"white\",\"linecolor\":\"white\",\"ticks\":\"\"}},\"title\":{\"x\":0.05},\"xaxis\":{\"automargin\":true,\"gridcolor\":\"white\",\"linecolor\":\"white\",\"ticks\":\"\",\"title\":{\"standoff\":15},\"zerolinecolor\":\"white\",\"zerolinewidth\":2},\"yaxis\":{\"automargin\":true,\"gridcolor\":\"white\",\"linecolor\":\"white\",\"ticks\":\"\",\"title\":{\"standoff\":15},\"zerolinecolor\":\"white\",\"zerolinewidth\":2}}},\"xaxis\":{\"anchor\":\"y\",\"domain\":[0.0,1.0],\"scaleanchor\":\"y\",\"constrain\":\"domain\"},\"yaxis\":{\"anchor\":\"x\",\"domain\":[0.0,1.0],\"autorange\":\"reversed\",\"constrain\":\"domain\"},\"coloraxis\":{\"colorbar\":{\"title\":{\"text\":\"Similarity Score\"}},\"colorscale\":[[0.0,\"rgb(247,252,240)\"],[0.125,\"rgb(224,243,219)\"],[0.25,\"rgb(204,235,197)\"],[0.375,\"rgb(168,221,181)\"],[0.5,\"rgb(123,204,196)\"],[0.625,\"rgb(78,179,211)\"],[0.75,\"rgb(43,140,190)\"],[0.875,\"rgb(8,104,172)\"],[1.0,\"rgb(8,64,129)\"]]},\"margin\":{\"t\":60},\"title\":{\"font\":{\"size\":22,\"color\":\"Black\"},\"text\":\"<b>Similarity Matrix\",\"y\":0.95,\"x\":0.55,\"xanchor\":\"center\",\"yanchor\":\"top\"},\"hoverlabel\":{\"font\":{\"size\":16,\"family\":\"Rockwell\"},\"bgcolor\":\"white\"},\"width\":800,\"height\":800,\"showlegend\":true,\"legend\":{\"title\":{\"text\":\"Trend\"}}},                        {\"responsive\": true}                    ).then(function(){\n",
              "                            \n",
              "var gd = document.getElementById('4cdee493-970c-48fc-bac5-9cd64bcc93dd');\n",
              "var x = new MutationObserver(function (mutations, observer) {{\n",
              "        var display = window.getComputedStyle(gd).display;\n",
              "        if (!display || display === 'none') {{\n",
              "            console.log([gd, 'removed!']);\n",
              "            Plotly.purge(gd);\n",
              "            observer.disconnect();\n",
              "        }}\n",
              "}});\n",
              "\n",
              "// Listen for the removal of the full notebook cells\n",
              "var notebookContainer = gd.closest('#notebook-container');\n",
              "if (notebookContainer) {{\n",
              "    x.observe(notebookContainer, {childList: true});\n",
              "}}\n",
              "\n",
              "// Listen for the clearing of the current output cell\n",
              "var outputEl = gd.closest('.output');\n",
              "if (outputEl) {{\n",
              "    x.observe(outputEl, {childList: true});\n",
              "}}\n",
              "\n",
              "                        })                };                            </script>        </div>\n",
              "</body>\n",
              "</html>"
            ]
          },
          "metadata": {}
        }
      ]
    },
    {
      "cell_type": "code",
      "source": [
        ""
      ],
      "metadata": {
        "id": "OClcVuV8w8qL"
      },
      "execution_count": null,
      "outputs": []
    }
  ]
}